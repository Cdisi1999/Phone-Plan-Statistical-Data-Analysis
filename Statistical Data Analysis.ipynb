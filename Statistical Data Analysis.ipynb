{
 "cells": [
  {
   "cell_type": "markdown",
   "metadata": {},
   "source": [
    "Hello!\n",
    "I'm happy to review your project today.\n",
    "When I will see mistake at the first time, I will just point it out. I let you find it and fix it by\n",
    "yourself. I'm trying to prepare you to work as an Data Analyst. SO, at a real job, your team lead\n",
    "will do the same. But if you can't handle this task yet, I will give you a more accurate hint at the\n",
    "next iteration.\n",
    "You will find my comments below - please do not move, modify or delete them.\n",
    "You can find my comments in green, yellow or red boxes like this:\n",
    "<div class=\"alert alert-block alert-success\"> <b>Reviewer's comment</b> <a\n",
    "class=\"tocSkip\"></a>\n",
    "Success. Everything is done succesfully. </div>\n",
    "<div class=\"alert alert-block alert-warning\"> <b>Reviewer's comment</b> <a class=\"tocSkip\"></a>\n",
    "Remarks. Some recommendations. </div>\n",
    "<div class=\"alert alert-block alert-danger\">\n",
    "<b>Reviewer's comment</b> <a class=\"tocSkip\"></a>\n",
    "Needs fixing. The block requires some corrections. Work can't be accepted with the red\n",
    "comments. </div>\n",
    "You can answer me by using this: not sue what i can do about putting all the imports in the first cell\n",
    "<div class=\"alert alert-block alert-info\"> <b>Student answer.</b> <a class=\"tocSkip\"></a>\n",
    "</div>\n",
    "\n",
    "\n",
    "**Keep in mind that the project will be accepted only when all the “red” issues are resolved.**"
   ]
  },
  {
   "cell_type": "markdown",
   "metadata": {},
   "source": [
    "<div class=\"alert alert-block alert-success\"> <b>General Feedback</b> <a\n",
    "class=\"tocSkip\"></a>\n",
    "\n",
    "\n",
    "Hi, Christian\n",
    "    \n",
    "I am happy to review your project today\n",
    "    \n",
    "There are many things that I like\n",
    "    \n",
    "- great project structure\n",
    "- amazing data preprocessing \n",
    "- all calculations are correct\n",
    "- correct results of hupotheses testing\n",
    "- brilliant project\n",
    "    \n",
    "<div class=\"alert alert-block alert-danger\">\n",
    "<b></b> <a class=\"tocSkip\"></a>\n",
    "There are just few missing visualizations Please add them</div>\n",
    "    \n",
    "One more time and you will have it\n",
    "    "
   ]
  },
  {
   "cell_type": "markdown",
   "metadata": {},
   "source": [
    "<div class=\"alert alert-block alert-success\"> <b>General Feedback v2</b> <a\n",
    "class=\"tocSkip\"></a>\n",
    "\n",
    "\n",
    "Hi, Christian\n",
    "    \n",
    "Tnank you for your corrections\n",
    "    \n",
    "Now your project is perfect\n",
    "    \n",
    "I am happy to say that your project has been accpted\n",
    "    \n",
    "Keep up good work and good luck in the next sprint"
   ]
  },
  {
   "cell_type": "markdown",
   "metadata": {},
   "source": [
    "# Which one is a better plan?\n",
    "\n",
    "You work as an analyst for the telecom operator Megaline. The company offers its clients two prepaid plans, Surf and Ultimate. The commercial department wants to know which of the plans brings in more revenue in order to adjust the advertising budget.\n",
    "\n",
    "You are going to carry out a preliminary analysis of the plans based on a relatively small client selection. You'll have the data on 500 Megaline clients: who the clients are, where they're from, which plan they use, and the number of calls they made and text messages they sent in 2018. Your job is to analyze the clients' behavior and determine which prepaid plan brings in more revenue."
   ]
  },
  {
   "cell_type": "markdown",
   "metadata": {},
   "source": [
    "[We've provided you with some commentary to guide your thinking as you complete this project. However, make sure to remove all the bracketed comments before submitting your project.]\n",
    "\n",
    "[Before you dive into analyzing your data, explain for yourself the purpose of the project and actions you plan to take.]\n",
    "\n",
    "[Please bear in mind that studying, amending, and analyzing data is an iterative process. It is normal to return to previous steps and correct/expand them to allow for further steps.]"
   ]
  },
  {
   "cell_type": "markdown",
   "metadata": {},
   "source": [
    "## Initialization"
   ]
  },
  {
   "cell_type": "markdown",
   "metadata": {},
   "source": []
  },
  {
   "cell_type": "code",
   "execution_count": 1,
   "metadata": {},
   "outputs": [],
   "source": [
    "# Loading all the libraries\n",
    "import pandas as pd\n",
    "import numpy as np\n",
    "import matplotlib.pyplot as plt\n",
    "from scipy import stats as st\n",
    "import seaborn as sns\n"
   ]
  },
  {
   "cell_type": "markdown",
   "metadata": {},
   "source": [
    "## Load data"
   ]
  },
  {
   "cell_type": "markdown",
   "metadata": {},
   "source": []
  },
  {
   "cell_type": "code",
   "execution_count": 2,
   "metadata": {},
   "outputs": [],
   "source": [
    "# Load the data files into different DataFrames\n",
    "calls = pd.read_csv('/datasets/megaline_calls.csv')\n",
    "internet = pd.read_csv('/datasets/megaline_internet.csv')\n",
    "messages = pd.read_csv('/datasets/megaline_messages.csv')\n",
    "plans = pd.read_csv('/datasets/megaline_plans.csv')\n",
    "users = pd.read_csv('/datasets/megaline_users.csv')\n"
   ]
  },
  {
   "cell_type": "markdown",
   "metadata": {},
   "source": [
    "<div class=\"alert alert-block alert-success\"> <b>Reviewer's comment</b> <a\n",
    "class=\"tocSkip\"></a>\n",
    "Great We have all necessary data </div>"
   ]
  },
  {
   "cell_type": "markdown",
   "metadata": {},
   "source": [
    "## Prepare the data"
   ]
  },
  {
   "cell_type": "markdown",
   "metadata": {},
   "source": [
    "[The data for this project is split into several tables. Explore each one to get an initial understanding of the data. Do necessary corrections to each table if necessary.]"
   ]
  },
  {
   "cell_type": "code",
   "execution_count": 3,
   "metadata": {},
   "outputs": [
    {
     "name": "stdout",
     "output_type": "stream",
     "text": [
      "         id  user_id   call_date  duration\n",
      "0   1000_93     1000  2018-12-27      8.52\n",
      "1  1000_145     1000  2018-12-27     13.66\n",
      "2  1000_247     1000  2018-12-27     14.48\n",
      "3  1000_309     1000  2018-12-28      5.76\n",
      "4  1000_380     1000  2018-12-30      4.22\n",
      "\n",
      "<class 'pandas.core.frame.DataFrame'>\n",
      "RangeIndex: 137735 entries, 0 to 137734\n",
      "Data columns (total 4 columns):\n",
      " #   Column     Non-Null Count   Dtype  \n",
      "---  ------     --------------   -----  \n",
      " 0   id         137735 non-null  object \n",
      " 1   user_id    137735 non-null  int64  \n",
      " 2   call_date  137735 non-null  object \n",
      " 3   duration   137735 non-null  float64\n",
      "dtypes: float64(1), int64(1), object(2)\n",
      "memory usage: 4.2+ MB\n",
      "\n",
      "             user_id       duration\n",
      "count  137735.000000  137735.000000\n",
      "mean     1247.658046       6.745927\n",
      "std       139.416268       5.839241\n",
      "min      1000.000000       0.000000\n",
      "25%      1128.000000       1.290000\n",
      "50%      1247.000000       5.980000\n",
      "75%      1365.000000      10.690000\n",
      "max      1499.000000      37.600000\n"
     ]
    }
   ],
   "source": [
    "print(calls.head())\n",
    "print()\n",
    "calls.info()\n",
    "print()\n",
    "print(calls.describe())"
   ]
  },
  {
   "cell_type": "markdown",
   "metadata": {},
   "source": [
    "<div class=\"alert alert-block alert-warning\"> <b>Reviewer's comment</b> <a class=\"tocSkip\"></a>\n",
    "Here and further - it is better to use display instead of print for dataframes </div>"
   ]
  },
  {
   "cell_type": "markdown",
   "metadata": {},
   "source": [
    "No missing values"
   ]
  },
  {
   "cell_type": "code",
   "execution_count": 4,
   "metadata": {},
   "outputs": [
    {
     "name": "stdout",
     "output_type": "stream",
     "text": [
      "         id  user_id session_date  mb_used\n",
      "0   1000_13     1000   2018-12-29    89.86\n",
      "1  1000_204     1000   2018-12-31     0.00\n",
      "2  1000_379     1000   2018-12-28   660.40\n",
      "3  1000_413     1000   2018-12-26   270.99\n",
      "4  1000_442     1000   2018-12-27   880.22\n",
      "\n",
      "<class 'pandas.core.frame.DataFrame'>\n",
      "RangeIndex: 104825 entries, 0 to 104824\n",
      "Data columns (total 4 columns):\n",
      " #   Column        Non-Null Count   Dtype  \n",
      "---  ------        --------------   -----  \n",
      " 0   id            104825 non-null  object \n",
      " 1   user_id       104825 non-null  int64  \n",
      " 2   session_date  104825 non-null  object \n",
      " 3   mb_used       104825 non-null  float64\n",
      "dtypes: float64(1), int64(1), object(2)\n",
      "memory usage: 3.2+ MB\n",
      "\n",
      "             user_id        mb_used\n",
      "count  104825.000000  104825.000000\n",
      "mean     1242.496361     366.713701\n",
      "std       142.053913     277.170542\n",
      "min      1000.000000       0.000000\n",
      "25%      1122.000000     136.080000\n",
      "50%      1236.000000     343.980000\n",
      "75%      1367.000000     554.610000\n",
      "max      1499.000000    1693.470000\n"
     ]
    }
   ],
   "source": [
    "print(internet.head())\n",
    "print()\n",
    "internet.info()\n",
    "print()\n",
    "print(internet.describe())"
   ]
  },
  {
   "cell_type": "markdown",
   "metadata": {},
   "source": [
    "No missing values"
   ]
  },
  {
   "cell_type": "code",
   "execution_count": 5,
   "metadata": {},
   "outputs": [
    {
     "name": "stdout",
     "output_type": "stream",
     "text": [
      "         id  user_id message_date\n",
      "0  1000_125     1000   2018-12-27\n",
      "1  1000_160     1000   2018-12-31\n",
      "2  1000_223     1000   2018-12-31\n",
      "3  1000_251     1000   2018-12-27\n",
      "4  1000_255     1000   2018-12-26\n",
      "\n",
      "<class 'pandas.core.frame.DataFrame'>\n",
      "RangeIndex: 76051 entries, 0 to 76050\n",
      "Data columns (total 3 columns):\n",
      " #   Column        Non-Null Count  Dtype \n",
      "---  ------        --------------  ----- \n",
      " 0   id            76051 non-null  object\n",
      " 1   user_id       76051 non-null  int64 \n",
      " 2   message_date  76051 non-null  object\n",
      "dtypes: int64(1), object(2)\n",
      "memory usage: 1.7+ MB\n",
      "\n",
      "            user_id\n",
      "count  76051.000000\n",
      "mean    1245.972768\n",
      "std      139.843635\n",
      "min     1000.000000\n",
      "25%     1123.000000\n",
      "50%     1251.000000\n",
      "75%     1362.000000\n",
      "max     1497.000000\n"
     ]
    }
   ],
   "source": [
    "print(messages.head())\n",
    "print()\n",
    "messages.info()\n",
    "print()\n",
    "print(messages.describe())"
   ]
  },
  {
   "cell_type": "markdown",
   "metadata": {},
   "source": [
    "No missing values"
   ]
  },
  {
   "cell_type": "code",
   "execution_count": 6,
   "metadata": {},
   "outputs": [
    {
     "name": "stdout",
     "output_type": "stream",
     "text": [
      "   messages_included  mb_per_month_included  minutes_included  \\\n",
      "0                 50                  15360               500   \n",
      "1               1000                  30720              3000   \n",
      "\n",
      "   usd_monthly_pay  usd_per_gb  usd_per_message  usd_per_minute plan_name  \n",
      "0               20          10             0.03            0.03      surf  \n",
      "1               70           7             0.01            0.01  ultimate  \n",
      "\n",
      "<class 'pandas.core.frame.DataFrame'>\n",
      "RangeIndex: 2 entries, 0 to 1\n",
      "Data columns (total 8 columns):\n",
      " #   Column                 Non-Null Count  Dtype  \n",
      "---  ------                 --------------  -----  \n",
      " 0   messages_included      2 non-null      int64  \n",
      " 1   mb_per_month_included  2 non-null      int64  \n",
      " 2   minutes_included       2 non-null      int64  \n",
      " 3   usd_monthly_pay        2 non-null      int64  \n",
      " 4   usd_per_gb             2 non-null      int64  \n",
      " 5   usd_per_message        2 non-null      float64\n",
      " 6   usd_per_minute         2 non-null      float64\n",
      " 7   plan_name              2 non-null      object \n",
      "dtypes: float64(2), int64(5), object(1)\n",
      "memory usage: 256.0+ bytes\n",
      "\n",
      "       messages_included  mb_per_month_included  minutes_included  \\\n",
      "count           2.000000               2.000000          2.000000   \n",
      "mean          525.000000           23040.000000       1750.000000   \n",
      "std           671.751442           10861.160159       1767.766953   \n",
      "min            50.000000           15360.000000        500.000000   \n",
      "25%           287.500000           19200.000000       1125.000000   \n",
      "50%           525.000000           23040.000000       1750.000000   \n",
      "75%           762.500000           26880.000000       2375.000000   \n",
      "max          1000.000000           30720.000000       3000.000000   \n",
      "\n",
      "       usd_monthly_pay  usd_per_gb  usd_per_message  usd_per_minute  \n",
      "count         2.000000     2.00000         2.000000        2.000000  \n",
      "mean         45.000000     8.50000         0.020000        0.020000  \n",
      "std          35.355339     2.12132         0.014142        0.014142  \n",
      "min          20.000000     7.00000         0.010000        0.010000  \n",
      "25%          32.500000     7.75000         0.015000        0.015000  \n",
      "50%          45.000000     8.50000         0.020000        0.020000  \n",
      "75%          57.500000     9.25000         0.025000        0.025000  \n",
      "max          70.000000    10.00000         0.030000        0.030000  \n"
     ]
    }
   ],
   "source": [
    "print(plans.head())\n",
    "print()\n",
    "plans.info()\n",
    "print()\n",
    "print(plans.describe())"
   ]
  },
  {
   "cell_type": "markdown",
   "metadata": {},
   "source": [
    "No missing values"
   ]
  },
  {
   "cell_type": "code",
   "execution_count": 7,
   "metadata": {},
   "outputs": [
    {
     "name": "stdout",
     "output_type": "stream",
     "text": [
      "   user_id first_name  last_name  age                                   city  \\\n",
      "0     1000   Anamaria      Bauer   45  Atlanta-Sandy Springs-Roswell, GA MSA   \n",
      "1     1001     Mickey  Wilkerson   28        Seattle-Tacoma-Bellevue, WA MSA   \n",
      "2     1002     Carlee    Hoffman   36   Las Vegas-Henderson-Paradise, NV MSA   \n",
      "3     1003   Reynaldo    Jenkins   52                          Tulsa, OK MSA   \n",
      "4     1004    Leonila   Thompson   40        Seattle-Tacoma-Bellevue, WA MSA   \n",
      "\n",
      "     reg_date      plan churn_date  \n",
      "0  2018-12-24  ultimate        NaN  \n",
      "1  2018-08-13      surf        NaN  \n",
      "2  2018-10-21      surf        NaN  \n",
      "3  2018-01-28      surf        NaN  \n",
      "4  2018-05-23      surf        NaN  \n",
      "\n",
      "<class 'pandas.core.frame.DataFrame'>\n",
      "RangeIndex: 500 entries, 0 to 499\n",
      "Data columns (total 8 columns):\n",
      " #   Column      Non-Null Count  Dtype \n",
      "---  ------      --------------  ----- \n",
      " 0   user_id     500 non-null    int64 \n",
      " 1   first_name  500 non-null    object\n",
      " 2   last_name   500 non-null    object\n",
      " 3   age         500 non-null    int64 \n",
      " 4   city        500 non-null    object\n",
      " 5   reg_date    500 non-null    object\n",
      " 6   plan        500 non-null    object\n",
      " 7   churn_date  34 non-null     object\n",
      "dtypes: int64(2), object(6)\n",
      "memory usage: 31.4+ KB\n",
      "\n",
      "           user_id         age\n",
      "count   500.000000  500.000000\n",
      "mean   1249.500000   45.486000\n",
      "std     144.481833   16.972269\n",
      "min    1000.000000   18.000000\n",
      "25%    1124.750000   30.000000\n",
      "50%    1249.500000   46.000000\n",
      "75%    1374.250000   61.000000\n",
      "max    1499.000000   75.000000\n"
     ]
    }
   ],
   "source": [
    "print(users.head())\n",
    "print()\n",
    "users.info()\n",
    "print()\n",
    "print(users.describe())"
   ]
  },
  {
   "cell_type": "markdown",
   "metadata": {},
   "source": [
    "Missing values found in churn date: these represent plans for users that are still ongoing. So 466 are still ongoing"
   ]
  },
  {
   "cell_type": "markdown",
   "metadata": {},
   "source": [
    "## Plans"
   ]
  },
  {
   "cell_type": "code",
   "execution_count": 8,
   "metadata": {},
   "outputs": [
    {
     "name": "stdout",
     "output_type": "stream",
     "text": [
      "   messages_included  mb_per_month_included  minutes_included  \\\n",
      "0                 50                  15360               500   \n",
      "1               1000                  30720              3000   \n",
      "\n",
      "   usd_monthly_pay  usd_per_gb  usd_per_message  usd_per_minute plan_name  \n",
      "0               20          10             0.03            0.03      surf  \n",
      "1               70           7             0.01            0.01  ultimate  \n",
      "\n",
      "<class 'pandas.core.frame.DataFrame'>\n",
      "RangeIndex: 2 entries, 0 to 1\n",
      "Data columns (total 8 columns):\n",
      " #   Column                 Non-Null Count  Dtype  \n",
      "---  ------                 --------------  -----  \n",
      " 0   messages_included      2 non-null      int64  \n",
      " 1   mb_per_month_included  2 non-null      int64  \n",
      " 2   minutes_included       2 non-null      int64  \n",
      " 3   usd_monthly_pay        2 non-null      int64  \n",
      " 4   usd_per_gb             2 non-null      int64  \n",
      " 5   usd_per_message        2 non-null      float64\n",
      " 6   usd_per_minute         2 non-null      float64\n",
      " 7   plan_name              2 non-null      object \n",
      "dtypes: float64(2), int64(5), object(1)\n",
      "memory usage: 256.0+ bytes\n",
      "\n",
      "       messages_included  mb_per_month_included  minutes_included  \\\n",
      "count           2.000000               2.000000          2.000000   \n",
      "mean          525.000000           23040.000000       1750.000000   \n",
      "std           671.751442           10861.160159       1767.766953   \n",
      "min            50.000000           15360.000000        500.000000   \n",
      "25%           287.500000           19200.000000       1125.000000   \n",
      "50%           525.000000           23040.000000       1750.000000   \n",
      "75%           762.500000           26880.000000       2375.000000   \n",
      "max          1000.000000           30720.000000       3000.000000   \n",
      "\n",
      "       usd_monthly_pay  usd_per_gb  usd_per_message  usd_per_minute  \n",
      "count         2.000000     2.00000         2.000000        2.000000  \n",
      "mean         45.000000     8.50000         0.020000        0.020000  \n",
      "std          35.355339     2.12132         0.014142        0.014142  \n",
      "min          20.000000     7.00000         0.010000        0.010000  \n",
      "25%          32.500000     7.75000         0.015000        0.015000  \n",
      "50%          45.000000     8.50000         0.020000        0.020000  \n",
      "75%          57.500000     9.25000         0.025000        0.025000  \n",
      "max          70.000000    10.00000         0.030000        0.030000  \n"
     ]
    }
   ],
   "source": [
    "# Print the general/summary information about the plans' DataFrame\n",
    "print(plans.head())\n",
    "print()\n",
    "plans.info()\n",
    "print()\n",
    "print(plans.describe())\n"
   ]
  },
  {
   "cell_type": "code",
   "execution_count": 9,
   "metadata": {},
   "outputs": [
    {
     "name": "stdout",
     "output_type": "stream",
     "text": [
      "   messages_included  mb_per_month_included  minutes_included  \\\n",
      "0                 50                  15360               500   \n",
      "1               1000                  30720              3000   \n",
      "\n",
      "   usd_monthly_pay  usd_per_gb  usd_per_message  usd_per_minute plan_name  \n",
      "0               20          10             0.03            0.03      surf  \n",
      "1               70           7             0.01            0.01  ultimate  \n"
     ]
    }
   ],
   "source": [
    "# Print a sample of data for plans\n",
    "#since plans only has 2 rows, lets just print the dataframe\n",
    "print(plans)"
   ]
  },
  {
   "cell_type": "markdown",
   "metadata": {},
   "source": [
    "The data is clean and well organized to be ready for analysis. Each column’s data type is appropriate, and there are no missing values."
   ]
  },
  {
   "cell_type": "markdown",
   "metadata": {},
   "source": [
    "[Describe what you see and notice in the general information and the printed data sample for the above price of data. Are there any issues (inappropriate data types, missing data etc) that may need further investigation and changes? How that can be fixed?]"
   ]
  },
  {
   "cell_type": "markdown",
   "metadata": {},
   "source": [
    "<div class=\"alert alert-block alert-success\"> <b>Reviewer's comment</b> <a\n",
    "class=\"tocSkip\"></a>\n",
    "Everything is fine here </div>"
   ]
  },
  {
   "cell_type": "markdown",
   "metadata": {},
   "source": [
    " "
   ]
  },
  {
   "cell_type": "markdown",
   "metadata": {},
   "source": [
    "## Fix data"
   ]
  },
  {
   "cell_type": "markdown",
   "metadata": {},
   "source": [
    "[Fix obvious issues with the data given the initial observations.]"
   ]
  },
  {
   "cell_type": "markdown",
   "metadata": {},
   "source": [
    "None needed"
   ]
  },
  {
   "cell_type": "markdown",
   "metadata": {},
   "source": [
    "## Enrich data"
   ]
  },
  {
   "cell_type": "markdown",
   "metadata": {},
   "source": [
    "[Add additional factors to the data if you believe they might be useful.]"
   ]
  },
  {
   "cell_type": "code",
   "execution_count": 10,
   "metadata": {},
   "outputs": [
    {
     "name": "stdout",
     "output_type": "stream",
     "text": [
      "   messages_included  mb_per_month_included  gb_per_month_included  \\\n",
      "0                 50                  15360                   15.0   \n",
      "1               1000                  30720                   30.0   \n",
      "\n",
      "   minutes_included  usd_monthly_pay  usd_per_gb  usd_per_message  \\\n",
      "0               500               20          10             0.03   \n",
      "1              3000               70           7             0.01   \n",
      "\n",
      "   usd_per_minute plan_name  \n",
      "0            0.03      surf  \n",
      "1            0.01  ultimate  \n"
     ]
    }
   ],
   "source": [
    "plans['gb_per_month_included'] = plans['mb_per_month_included'] / 1024\n",
    "plans = plans[['messages_included', 'mb_per_month_included', 'gb_per_month_included', \n",
    "               'minutes_included', 'usd_monthly_pay', 'usd_per_gb', \n",
    "               'usd_per_message', 'usd_per_minute', 'plan_name']]\n",
    "print(plans)"
   ]
  },
  {
   "cell_type": "markdown",
   "metadata": {},
   "source": [
    "Added a gb/month column to help visualize the data"
   ]
  },
  {
   "cell_type": "markdown",
   "metadata": {},
   "source": [
    "## Users"
   ]
  },
  {
   "cell_type": "code",
   "execution_count": 11,
   "metadata": {},
   "outputs": [
    {
     "name": "stdout",
     "output_type": "stream",
     "text": [
      "<class 'pandas.core.frame.DataFrame'>\n",
      "RangeIndex: 500 entries, 0 to 499\n",
      "Data columns (total 8 columns):\n",
      " #   Column      Non-Null Count  Dtype \n",
      "---  ------      --------------  ----- \n",
      " 0   user_id     500 non-null    int64 \n",
      " 1   first_name  500 non-null    object\n",
      " 2   last_name   500 non-null    object\n",
      " 3   age         500 non-null    int64 \n",
      " 4   city        500 non-null    object\n",
      " 5   reg_date    500 non-null    object\n",
      " 6   plan        500 non-null    object\n",
      " 7   churn_date  34 non-null     object\n",
      "dtypes: int64(2), object(6)\n",
      "memory usage: 31.4+ KB\n",
      "\n",
      "           user_id         age\n",
      "count   500.000000  500.000000\n",
      "mean   1249.500000   45.486000\n",
      "std     144.481833   16.972269\n",
      "min    1000.000000   18.000000\n",
      "25%    1124.750000   30.000000\n",
      "50%    1249.500000   46.000000\n",
      "75%    1374.250000   61.000000\n",
      "max    1499.000000   75.000000\n"
     ]
    }
   ],
   "source": [
    "# Print the general/summary information about the users' DataFrame\n",
    "users.info()\n",
    "print()\n",
    "print(users.describe())\n"
   ]
  },
  {
   "cell_type": "code",
   "execution_count": 12,
   "metadata": {},
   "outputs": [
    {
     "name": "stdout",
     "output_type": "stream",
     "text": [
      "     user_id   first_name last_name  age  \\\n",
      "293     1293        Lanny     Nolan   23   \n",
      "411     1411          Man   Fleming   64   \n",
      "429     1429      Arianna      Rowe   36   \n",
      "71      1071          Isa       Roy   29   \n",
      "23      1023         Jack   Delaney   70   \n",
      "160     1160       Steven    Morgan   44   \n",
      "394     1394    Alejandro    Carver   28   \n",
      "142     1142  Charlesetta   Dillard   18   \n",
      "5       1005        Livia   Shields   31   \n",
      "115     1115      Yevette      Yang   21   \n",
      "\n",
      "                                                city    reg_date  plan  \\\n",
      "293  Philadelphia-Camden-Wilmington, PA-NJ-DE-MD MSA  2018-08-13  surf   \n",
      "411                                Rochester, NY MSA  2018-08-10  surf   \n",
      "429        New York-Newark-Jersey City, NY-NJ-PA MSA  2018-12-22  surf   \n",
      "71         New York-Newark-Jersey City, NY-NJ-PA MSA  2018-05-23  surf   \n",
      "23                   Omaha-Council Bluffs, NE-IA MSA  2018-07-06  surf   \n",
      "160          Portland-Vancouver-Hillsboro, OR-WA MSA  2018-02-05  surf   \n",
      "394                                 Stockton, CA MSA  2018-01-16  surf   \n",
      "142                     New Orleans-Metairie, LA MSA  2018-08-23  surf   \n",
      "5                Dallas-Fort Worth-Arlington, TX MSA  2018-11-29  surf   \n",
      "115                                  El Paso, TX MSA  2018-11-19  surf   \n",
      "\n",
      "    churn_date  \n",
      "293        NaN  \n",
      "411        NaN  \n",
      "429        NaN  \n",
      "71         NaN  \n",
      "23         NaN  \n",
      "160        NaN  \n",
      "394        NaN  \n",
      "142        NaN  \n",
      "5          NaN  \n",
      "115        NaN  \n"
     ]
    }
   ],
   "source": [
    "# Print a sample of data for users\n",
    "\n",
    "print(users.sample(10))"
   ]
  },
  {
   "cell_type": "markdown",
   "metadata": {},
   "source": [
    "[Describe what you see and notice in the general information and the printed data sample for the above price of data. Are there any issues (inappropriate data types, missing data etc) that may need further investigation and changes? How that can be fixed?]"
   ]
  },
  {
   "cell_type": "markdown",
   "metadata": {},
   "source": [
    " "
   ]
  },
  {
   "cell_type": "markdown",
   "metadata": {},
   "source": [
    "### Fix Data"
   ]
  },
  {
   "cell_type": "markdown",
   "metadata": {},
   "source": [
    "[Fix obvious issues with the data given the initial observations.]"
   ]
  },
  {
   "cell_type": "code",
   "execution_count": 13,
   "metadata": {},
   "outputs": [
    {
     "name": "stdout",
     "output_type": "stream",
     "text": [
      "0\n"
     ]
    }
   ],
   "source": [
    "users['reg_date'] = pd.to_datetime(users['reg_date'])\n",
    "users['churn_date'] = pd.to_datetime(users['churn_date'])\n",
    "\n",
    "duplicate_rows = users.duplicated().sum()\n",
    "print(duplicate_rows)"
   ]
  },
  {
   "cell_type": "markdown",
   "metadata": {},
   "source": [
    "Convert dates to datetime for easier access and computations later on\n",
    "No duplicates, great!"
   ]
  },
  {
   "cell_type": "markdown",
   "metadata": {},
   "source": [
    "<div class=\"alert alert-block alert-success\"> <b>Reviewer's comment</b> <a\n",
    "class=\"tocSkip\"></a>\n",
    "Well done You also can check parameter parse_dates on pd.read_csv method - it makes work with datetime like columns easier </div>"
   ]
  },
  {
   "cell_type": "markdown",
   "metadata": {},
   "source": [
    "### Enrich Data"
   ]
  },
  {
   "cell_type": "markdown",
   "metadata": {},
   "source": [
    "[Add additional factors to the data if you believe they might be useful.]"
   ]
  },
  {
   "cell_type": "code",
   "execution_count": 14,
   "metadata": {},
   "outputs": [
    {
     "name": "stdout",
     "output_type": "stream",
     "text": [
      "<class 'pandas.core.frame.DataFrame'>\n",
      "RangeIndex: 500 entries, 0 to 499\n",
      "Data columns (total 8 columns):\n",
      " #   Column      Non-Null Count  Dtype         \n",
      "---  ------      --------------  -----         \n",
      " 0   user_id     500 non-null    int64         \n",
      " 1   first_name  500 non-null    object        \n",
      " 2   last_name   500 non-null    object        \n",
      " 3   age         500 non-null    int64         \n",
      " 4   city        500 non-null    object        \n",
      " 5   reg_date    500 non-null    datetime64[ns]\n",
      " 6   plan        500 non-null    object        \n",
      " 7   churn_date  500 non-null    datetime64[ns]\n",
      "dtypes: datetime64[ns](2), int64(2), object(4)\n",
      "memory usage: 31.4+ KB\n"
     ]
    }
   ],
   "source": [
    "end_date = pd.Timestamp('2018-12-31')\n",
    "users['churn_date'] = users['churn_date'].fillna(end_date)\n",
    "\n",
    "users.info()"
   ]
  },
  {
   "cell_type": "markdown",
   "metadata": {},
   "source": [
    "By making each churn_date for active users the last day of 2018, since we are analyzing only revenue in 2018 we can perform straightforward calculations for metrics like revenue without needing conditional logic to handle NaN values in churn_date."
   ]
  },
  {
   "cell_type": "markdown",
   "metadata": {},
   "source": [
    "<div class=\"alert alert-block alert-success\"> <b>Reviewer's comment</b> <a\n",
    "class=\"tocSkip\"></a>\n",
    "Super</div>"
   ]
  },
  {
   "cell_type": "markdown",
   "metadata": {},
   "source": [
    "## Calls"
   ]
  },
  {
   "cell_type": "code",
   "execution_count": 15,
   "metadata": {},
   "outputs": [
    {
     "name": "stdout",
     "output_type": "stream",
     "text": [
      "<class 'pandas.core.frame.DataFrame'>\n",
      "RangeIndex: 137735 entries, 0 to 137734\n",
      "Data columns (total 4 columns):\n",
      " #   Column     Non-Null Count   Dtype  \n",
      "---  ------     --------------   -----  \n",
      " 0   id         137735 non-null  object \n",
      " 1   user_id    137735 non-null  int64  \n",
      " 2   call_date  137735 non-null  object \n",
      " 3   duration   137735 non-null  float64\n",
      "dtypes: float64(1), int64(1), object(2)\n",
      "memory usage: 4.2+ MB\n",
      "\n",
      "             user_id       duration\n",
      "count  137735.000000  137735.000000\n",
      "mean     1247.658046       6.745927\n",
      "std       139.416268       5.839241\n",
      "min      1000.000000       0.000000\n",
      "25%      1128.000000       1.290000\n",
      "50%      1247.000000       5.980000\n",
      "75%      1365.000000      10.690000\n",
      "max      1499.000000      37.600000\n"
     ]
    }
   ],
   "source": [
    "# Print the general/summary information about the calls' DataFrame\n",
    "calls.info()\n",
    "print()\n",
    "print(calls.describe())\n"
   ]
  },
  {
   "cell_type": "code",
   "execution_count": 16,
   "metadata": {},
   "outputs": [
    {
     "name": "stdout",
     "output_type": "stream",
     "text": [
      "              id  user_id   call_date  duration\n",
      "66298   1240_156     1240  2018-09-14      9.04\n",
      "136908   1496_77     1496  2018-10-29     13.48\n",
      "13872    1059_92     1059  2018-10-16     11.01\n",
      "92307   1331_198     1331  2018-12-17     14.35\n",
      "17071   1066_174     1066  2018-12-28      5.65\n",
      "119268  1415_316     1415  2018-11-08      4.54\n",
      "25310   1097_413     1097  2018-09-13      9.06\n",
      "97529    1348_79     1348  2018-12-08      9.58\n",
      "54715   1196_608     1196  2018-04-22      9.33\n",
      "62081   1223_250     1223  2018-08-03      0.00\n"
     ]
    }
   ],
   "source": [
    "# Print a sample of data for calls\n",
    "print(calls.sample(10))"
   ]
  },
  {
   "cell_type": "markdown",
   "metadata": {},
   "source": [
    "[Describe what you see and notice in the general information and the printed data sample for the above price of data. Are there any issues (inappropriate data types, missing data etc) that may need further investigation and changes? How that can be fixed?]"
   ]
  },
  {
   "cell_type": "markdown",
   "metadata": {},
   "source": [
    " "
   ]
  },
  {
   "cell_type": "markdown",
   "metadata": {},
   "source": [
    "### Fix data"
   ]
  },
  {
   "cell_type": "markdown",
   "metadata": {},
   "source": [
    "[Fix obvious issues with the data given the initial observations.]"
   ]
  },
  {
   "cell_type": "code",
   "execution_count": 17,
   "metadata": {},
   "outputs": [
    {
     "name": "stdout",
     "output_type": "stream",
     "text": [
      "0\n",
      "          id  user_id  call_date  duration  rounded_duration\n",
      "0    1000_93     1000 2018-12-27      8.52               9.0\n",
      "1   1000_145     1000 2018-12-27     13.66              14.0\n",
      "2   1000_247     1000 2018-12-27     14.48              15.0\n",
      "3   1000_309     1000 2018-12-28      5.76               6.0\n",
      "4   1000_380     1000 2018-12-30      4.22               5.0\n",
      "5   1000_388     1000 2018-12-31      2.20               3.0\n",
      "6   1000_510     1000 2018-12-27      5.75               6.0\n",
      "7   1000_521     1000 2018-12-28     14.18              15.0\n",
      "8   1000_530     1000 2018-12-28      5.77               6.0\n",
      "9   1000_544     1000 2018-12-26      4.40               5.0\n",
      "10  1000_693     1000 2018-12-31      4.31               5.0\n",
      "11  1000_705     1000 2018-12-31     12.78              13.0\n",
      "12  1000_735     1000 2018-12-29      1.70               2.0\n",
      "13  1000_778     1000 2018-12-28      3.29               4.0\n",
      "14  1000_826     1000 2018-12-26      9.96              10.0\n",
      "15  1000_842     1000 2018-12-27      5.85               6.0\n",
      "16    1001_0     1001 2018-09-06     10.06              11.0\n",
      "17    1001_1     1001 2018-10-12      1.00               1.0\n",
      "18    1001_2     1001 2018-10-17     15.83              16.0\n",
      "19    1001_5     1001 2018-12-13      6.27               7.0\n",
      "20    1001_6     1001 2018-12-04      7.19               8.0\n",
      "21    1001_8     1001 2018-11-17      2.45               3.0\n",
      "22    1001_9     1001 2018-11-19      2.40               3.0\n",
      "23   1001_11     1001 2018-11-09      1.00               1.0\n",
      "24   1001_19     1001 2018-11-15     30.00              30.0\n"
     ]
    }
   ],
   "source": [
    "duplicate_rows_calls = calls.duplicated().sum()\n",
    "print(duplicate_rows_calls)\n",
    "\n",
    "calls['call_date'] = pd.to_datetime(calls['call_date'])\n",
    "calls = calls[calls['duration'] > 0].reset_index(drop=True)\n",
    "calls['rounded_duration'] = np.ceil(calls['duration'])\n",
    "\n",
    "if 'index' in calls.columns:\n",
    "    calls = calls.drop(columns=['index'])\n",
    "\n",
    "print(calls.head(25))"
   ]
  },
  {
   "cell_type": "markdown",
   "metadata": {},
   "source": [
    "<div class=\"alert alert-block alert-success\"> <b>Reviewer's comment</b> <a\n",
    "class=\"tocSkip\"></a>\n",
    "Well done Amazing code </div>"
   ]
  },
  {
   "cell_type": "markdown",
   "metadata": {},
   "source": [
    "Checked for duplicates: None\n",
    "\n",
    "Converted dates to datetime\n",
    "\n",
    "Dropped rows where call duration = 0. There is no need for them\n",
    "\n",
    "Rounded up as the project description said all calls are rounded up"
   ]
  },
  {
   "cell_type": "markdown",
   "metadata": {},
   "source": [
    "### Enrich data"
   ]
  },
  {
   "cell_type": "markdown",
   "metadata": {},
   "source": [
    "[Add additional factors to the data if you believe they might be useful.]"
   ]
  },
  {
   "cell_type": "markdown",
   "metadata": {},
   "source": [
    "I did this in the previous step. I added a new column that rounds up the duration of the call, as megaline always rounds up even if a call is only 1 second over a minute"
   ]
  },
  {
   "cell_type": "markdown",
   "metadata": {},
   "source": [
    "## Messages"
   ]
  },
  {
   "cell_type": "code",
   "execution_count": 18,
   "metadata": {},
   "outputs": [
    {
     "name": "stdout",
     "output_type": "stream",
     "text": [
      "<class 'pandas.core.frame.DataFrame'>\n",
      "RangeIndex: 76051 entries, 0 to 76050\n",
      "Data columns (total 3 columns):\n",
      " #   Column        Non-Null Count  Dtype \n",
      "---  ------        --------------  ----- \n",
      " 0   id            76051 non-null  object\n",
      " 1   user_id       76051 non-null  int64 \n",
      " 2   message_date  76051 non-null  object\n",
      "dtypes: int64(1), object(2)\n",
      "memory usage: 1.7+ MB\n",
      "\n",
      "            user_id\n",
      "count  76051.000000\n",
      "mean    1245.972768\n",
      "std      139.843635\n",
      "min     1000.000000\n",
      "25%     1123.000000\n",
      "50%     1251.000000\n",
      "75%     1362.000000\n",
      "max     1497.000000\n"
     ]
    }
   ],
   "source": [
    "# Print the general/summary information about the messages' DataFrame\n",
    "\n",
    "messages.info()\n",
    "print()\n",
    "print(messages.describe())"
   ]
  },
  {
   "cell_type": "code",
   "execution_count": 19,
   "metadata": {},
   "outputs": [
    {
     "name": "stdout",
     "output_type": "stream",
     "text": [
      "             id  user_id message_date\n",
      "29614    1183_9     1183   2018-11-15\n",
      "42018  1270_272     1270   2018-12-19\n",
      "74425  1476_193     1476   2018-07-08\n",
      "37791   1250_44     1250   2018-11-20\n",
      "6241   1055_359     1055   2018-11-22\n",
      "51425   1335_13     1335   2018-11-08\n",
      "53054  1339_188     1339   2018-09-28\n",
      "61172  1384_253     1384   2018-11-01\n",
      "40855  1261_528     1261   2018-08-22\n",
      "11786  1079_185     1079   2018-10-25\n"
     ]
    }
   ],
   "source": [
    "# Print a sample of data for messages\n",
    "\n",
    "print(messages.sample(10))"
   ]
  },
  {
   "cell_type": "markdown",
   "metadata": {},
   "source": [
    "[Describe what you see and notice in the general information and the printed data sample for the above price of data. Are there any issues (inappropriate data types, missing data etc) that may need further investigation and changes? How that can be fixed?]"
   ]
  },
  {
   "cell_type": "markdown",
   "metadata": {},
   "source": [
    " "
   ]
  },
  {
   "cell_type": "markdown",
   "metadata": {},
   "source": [
    "### Fix data"
   ]
  },
  {
   "cell_type": "markdown",
   "metadata": {},
   "source": [
    "[Fix obvious issues with the data given the initial observations.]"
   ]
  },
  {
   "cell_type": "code",
   "execution_count": 20,
   "metadata": {},
   "outputs": [
    {
     "name": "stdout",
     "output_type": "stream",
     "text": [
      "0\n"
     ]
    }
   ],
   "source": [
    "messages['message_date'] = pd.to_datetime(messages['message_date'])\n",
    "print(messages.duplicated().sum())\n"
   ]
  },
  {
   "cell_type": "markdown",
   "metadata": {},
   "source": [
    "Changed to datetime, and no duplicates!"
   ]
  },
  {
   "cell_type": "markdown",
   "metadata": {},
   "source": [
    "### Enrich data"
   ]
  },
  {
   "cell_type": "markdown",
   "metadata": {},
   "source": [
    "[Add additional factors to the data if you believe they might be useful.]"
   ]
  },
  {
   "cell_type": "markdown",
   "metadata": {},
   "source": [
    "None needed"
   ]
  },
  {
   "cell_type": "markdown",
   "metadata": {},
   "source": [
    "<div class=\"alert alert-block alert-success\"> <b>Reviewer's comment</b> <a\n",
    "class=\"tocSkip\"></a>\n",
    "Correct</div>"
   ]
  },
  {
   "cell_type": "markdown",
   "metadata": {},
   "source": [
    "## Internet"
   ]
  },
  {
   "cell_type": "code",
   "execution_count": 21,
   "metadata": {},
   "outputs": [
    {
     "name": "stdout",
     "output_type": "stream",
     "text": [
      "<class 'pandas.core.frame.DataFrame'>\n",
      "RangeIndex: 104825 entries, 0 to 104824\n",
      "Data columns (total 4 columns):\n",
      " #   Column        Non-Null Count   Dtype  \n",
      "---  ------        --------------   -----  \n",
      " 0   id            104825 non-null  object \n",
      " 1   user_id       104825 non-null  int64  \n",
      " 2   session_date  104825 non-null  object \n",
      " 3   mb_used       104825 non-null  float64\n",
      "dtypes: float64(1), int64(1), object(2)\n",
      "memory usage: 3.2+ MB\n",
      "\n",
      "             user_id        mb_used\n",
      "count  104825.000000  104825.000000\n",
      "mean     1242.496361     366.713701\n",
      "std       142.053913     277.170542\n",
      "min      1000.000000       0.000000\n",
      "25%      1122.000000     136.080000\n",
      "50%      1236.000000     343.980000\n",
      "75%      1367.000000     554.610000\n",
      "max      1499.000000    1693.470000\n"
     ]
    }
   ],
   "source": [
    "# Print the general/summary information about the internet DataFrame\n",
    "\n",
    "internet.info()\n",
    "print()\n",
    "print(internet.describe())"
   ]
  },
  {
   "cell_type": "code",
   "execution_count": 22,
   "metadata": {},
   "outputs": [
    {
     "name": "stdout",
     "output_type": "stream",
     "text": [
      "              id  user_id session_date  mb_used\n",
      "10937   1054_476     1054   2018-04-25   180.19\n",
      "76506   1359_187     1359   2018-09-14   618.65\n",
      "19095   1085_169     1085   2018-12-22   528.37\n",
      "44953   1199_226     1199   2018-09-20   938.18\n",
      "14149    1066_38     1066   2018-04-11   321.12\n",
      "93425   1435_191     1435   2018-11-27   442.96\n",
      "48312    1215_34     1215   2018-10-21   127.50\n",
      "56881   1257_148     1257   2018-10-09   574.93\n",
      "88744   1408_463     1408   2018-12-03     0.00\n",
      "103489   1495_95     1495   2018-11-13     0.00\n",
      "64218   1294_139     1294   2018-11-06   583.29\n",
      "42920    1191_99     1191   2018-08-21   904.91\n",
      "102850   1492_83     1492   2018-10-04     0.00\n",
      "74950   1353_113     1353   2018-10-28   452.85\n",
      "38912   1174_175     1174   2018-09-15   433.21\n",
      "18597   1082_345     1082   2018-09-10   321.08\n",
      "17232   1077_352     1077   2018-03-30   384.88\n",
      "8516    1044_166     1044   2018-11-22   552.61\n",
      "17637   1079_242     1079   2018-09-15   839.45\n",
      "69657    1325_59     1325   2018-12-08     0.00\n"
     ]
    }
   ],
   "source": [
    "# Print a sample of data for the internet traffic\n",
    "\n",
    "print(internet.sample(20))"
   ]
  },
  {
   "cell_type": "markdown",
   "metadata": {},
   "source": [
    "[Describe what you see and notice in the general information and the printed data sample for the above price of data. Are there any issues (inappropriate data types, missing data etc) that may need further investigation and changes? How that can be fixed?]"
   ]
  },
  {
   "cell_type": "markdown",
   "metadata": {},
   "source": [
    "The data seems to be in good shape. We can convert the date to datetime. We can also add two new columns. One rounding up for mb_used and the next converting to gb."
   ]
  },
  {
   "cell_type": "markdown",
   "metadata": {},
   "source": [
    " "
   ]
  },
  {
   "cell_type": "markdown",
   "metadata": {},
   "source": [
    "### Fix data"
   ]
  },
  {
   "cell_type": "markdown",
   "metadata": {},
   "source": [
    "[Fix obvious issues with the data given the initial observations.]"
   ]
  },
  {
   "cell_type": "code",
   "execution_count": 23,
   "metadata": {},
   "outputs": [
    {
     "name": "stdout",
     "output_type": "stream",
     "text": [
      "             id  user_id session_date  mb_used  mb_used_rounded  gb_used\n",
      "40524  1182_203     1182   2018-09-08   218.41            219.0      1.0\n",
      "57895  1261_363     1261   2018-12-02   398.52            399.0      1.0\n",
      "33748  1153_289     1153   2018-07-11   452.34            453.0      1.0\n",
      "46304   1206_42     1206   2018-12-21   449.56            450.0      1.0\n",
      "57348  1258_436     1258   2018-12-29   415.79            416.0      1.0\n",
      "64087    1294_8     1294   2018-10-24   224.93            225.0      1.0\n",
      "67705   1314_43     1314   2018-11-19   431.18            432.0      1.0\n",
      "64815  1299_103     1299   2018-07-28   487.84            488.0      1.0\n",
      "56603  1256_162     1256   2018-11-24   364.23            365.0      1.0\n",
      "49455  1220_496     1220   2018-10-10   549.95            550.0      1.0\n"
     ]
    }
   ],
   "source": [
    "internet['session_date'] = pd.to_datetime(internet['session_date'])\n",
    "internet['mb_used_rounded'] = np.ceil(internet['mb_used'])\n",
    "internet['gb_used'] = np.ceil(internet['mb_used_rounded'] / 1024)\n",
    "\n",
    "print(internet.sample(10))"
   ]
  },
  {
   "cell_type": "markdown",
   "metadata": {},
   "source": [
    "<div class=\"alert alert-block alert-success\"> <b>Reviewer's comment</b> <a\n",
    "class=\"tocSkip\"></a>\n",
    "Super</div>"
   ]
  },
  {
   "cell_type": "markdown",
   "metadata": {},
   "source": [
    "### Enrich data"
   ]
  },
  {
   "cell_type": "markdown",
   "metadata": {},
   "source": [
    "[Add additional factors to the data if you believe they might be useful.]"
   ]
  },
  {
   "cell_type": "markdown",
   "metadata": {},
   "source": [
    "Did so above:\n",
    "\n",
    "Created columns to eventually allow us to get to # of gb used"
   ]
  },
  {
   "cell_type": "markdown",
   "metadata": {},
   "source": [
    "## Study plan conditions"
   ]
  },
  {
   "cell_type": "markdown",
   "metadata": {},
   "source": [
    "[It is critical to understand how the plans work, how users are charged based on their plan subscription. So, we suggest printing out the plan information to view their conditions once again.]"
   ]
  },
  {
   "cell_type": "code",
   "execution_count": 24,
   "metadata": {},
   "outputs": [
    {
     "name": "stdout",
     "output_type": "stream",
     "text": [
      "   messages_included  mb_per_month_included  gb_per_month_included  \\\n",
      "0                 50                  15360                   15.0   \n",
      "1               1000                  30720                   30.0   \n",
      "\n",
      "   minutes_included  usd_monthly_pay  usd_per_gb  usd_per_message  \\\n",
      "0               500               20          10             0.03   \n",
      "1              3000               70           7             0.01   \n",
      "\n",
      "   usd_per_minute plan_name  \n",
      "0            0.03      surf  \n",
      "1            0.01  ultimate  \n"
     ]
    }
   ],
   "source": [
    "# Print out the plan conditions and make sure they are clear for you\n",
    "print(plans)\n"
   ]
  },
  {
   "cell_type": "markdown",
   "metadata": {},
   "source": [
    "## Aggregate data per user\n",
    "\n",
    "[Now, as the data is clean, aggregate data per user per period in order to have just one record per user per period. It should ease the further analysis a lot.]"
   ]
  },
  {
   "cell_type": "code",
   "execution_count": 25,
   "metadata": {},
   "outputs": [
    {
     "name": "stdout",
     "output_type": "stream",
     "text": [
      "    user_id  month  calls_per_month\n",
      "0      1000     12               16\n",
      "1      1001      8               22\n",
      "2      1001      9               38\n",
      "3      1001     10               47\n",
      "4      1001     11               49\n",
      "5      1001     12               46\n",
      "6      1002     10                8\n",
      "7      1002     11               48\n",
      "8      1002     12               38\n",
      "9      1003     12              118\n",
      "10     1004      5               19\n",
      "11     1004      6               33\n",
      "12     1004      7               45\n",
      "13     1004      8               42\n",
      "14     1004      9               32\n",
      "15     1004     10               47\n",
      "16     1004     11               45\n",
      "17     1004     12               43\n",
      "18     1005     12               50\n",
      "19     1006     11                2\n",
      "20     1006     12                7\n",
      "21     1007      8               56\n",
      "22     1007      9               49\n",
      "23     1007     10               70\n",
      "24     1007     11               61\n"
     ]
    }
   ],
   "source": [
    "# Calculate the number of calls made by each user per month. Save the result.\n",
    "calls['month'] = calls['call_date'].dt.month\n",
    "monthly_calls = calls.groupby(['user_id', 'month']).agg(calls_per_month= ('id', 'count')).reset_index()\n",
    "\n",
    "print(monthly_calls.head(25))"
   ]
  },
  {
   "cell_type": "code",
   "execution_count": 26,
   "metadata": {},
   "outputs": [
    {
     "name": "stdout",
     "output_type": "stream",
     "text": [
      "    user_id  month  minutes_per_month\n",
      "0      1000     12              124.0\n",
      "1      1001      8              182.0\n",
      "2      1001      9              315.0\n",
      "3      1001     10              393.0\n",
      "4      1001     11              426.0\n",
      "5      1001     12              412.0\n",
      "6      1002     10               59.0\n",
      "7      1002     11              386.0\n",
      "8      1002     12              384.0\n",
      "9      1003     12             1104.0\n",
      "10     1004      5              193.0\n",
      "11     1004      6              275.0\n",
      "12     1004      7              381.0\n",
      "13     1004      8              354.0\n",
      "14     1004      9              301.0\n",
      "15     1004     10              365.0\n",
      "16     1004     11              476.0\n",
      "17     1004     12              427.0\n",
      "18     1005     12              496.0\n",
      "19     1006     11               10.0\n",
      "20     1006     12               59.0\n",
      "21     1007      8              456.0\n",
      "22     1007      9              399.0\n",
      "23     1007     10              645.0\n",
      "24     1007     11              524.0\n"
     ]
    }
   ],
   "source": [
    "# Calculate the amount of minutes spent by each user per month. Save the result.\n",
    "monthly_minutes = calls.groupby(['user_id', 'month']).agg(minutes_per_month= ('rounded_duration', 'sum')).reset_index()\n",
    "\n",
    "print(monthly_minutes.head(25))"
   ]
  },
  {
   "cell_type": "markdown",
   "metadata": {},
   "source": [
    "<div class=\"alert alert-block alert-success\"> <b>Reviewer's comment</b> <a\n",
    "class=\"tocSkip\"></a>\n",
    "Great</div>"
   ]
  },
  {
   "cell_type": "code",
   "execution_count": 27,
   "metadata": {},
   "outputs": [
    {
     "name": "stdout",
     "output_type": "stream",
     "text": [
      "    user_id  month  messages_per_month\n",
      "0      1000     12                  11\n",
      "1      1001      8                  30\n",
      "2      1001      9                  44\n",
      "3      1001     10                  53\n",
      "4      1001     11                  36\n",
      "5      1001     12                  44\n",
      "6      1002     10                  15\n",
      "7      1002     11                  32\n",
      "8      1002     12                  41\n",
      "9      1003     12                  50\n",
      "10     1004      5                   7\n",
      "11     1004      6                  18\n",
      "12     1004      7                  26\n",
      "13     1004      8                  25\n",
      "14     1004      9                  21\n",
      "15     1004     10                  24\n",
      "16     1004     11                  25\n",
      "17     1004     12                  31\n",
      "18     1005     12                  11\n",
      "19     1006     11                  15\n",
      "20     1006     12                 139\n",
      "21     1007      8                  51\n",
      "22     1007      9                  47\n",
      "23     1007     10                  59\n",
      "24     1007     11                  48\n"
     ]
    }
   ],
   "source": [
    "# Calculate the number of messages sent by each user per month. Save the result.\n",
    "messages['month'] = messages['message_date'].dt.month\n",
    "monthly_messages = messages.groupby(['user_id', 'month']).agg(messages_per_month= ('id', 'count')).reset_index()\n",
    "print(monthly_messages.head(25))"
   ]
  },
  {
   "cell_type": "code",
   "execution_count": 28,
   "metadata": {},
   "outputs": [
    {
     "name": "stdout",
     "output_type": "stream",
     "text": [
      "   user_id  month  monthly_mb_used  monthly_gb_used_rounded\n",
      "0     1000     12           1903.0                      2.0\n",
      "1     1001      8           6929.0                      7.0\n",
      "2     1001      9          13333.0                     14.0\n",
      "3     1001     10          22356.0                     22.0\n",
      "4     1001     11          18524.0                     19.0\n",
      "5     1001     12          19398.0                     19.0\n",
      "6     1002     10           6559.0                      7.0\n",
      "7     1002     11          19364.0                     19.0\n",
      "8     1002     12          14416.0                     15.0\n",
      "9     1003     12          27069.0                     27.0\n"
     ]
    }
   ],
   "source": [
    "# Calculate the volume of internet traffic used by each user per month. Save the result.\n",
    "internet['month'] = internet['session_date'].dt.month\n",
    "monthly_data_usage = internet.groupby(['user_id', 'month']).agg(monthly_mb_used= ('mb_used_rounded', 'sum')).reset_index()\n",
    "monthly_data_usage['monthly_gb_used_rounded'] = np.ceil(monthly_data_usage['monthly_mb_used'] / 1024)\n",
    "print(monthly_data_usage.head(10))"
   ]
  },
  {
   "cell_type": "markdown",
   "metadata": {},
   "source": [
    "<div class=\"alert alert-block alert-success\"> <b>Reviewer's comment</b> <a\n",
    "class=\"tocSkip\"></a>\n",
    "Perfect</div>"
   ]
  },
  {
   "cell_type": "markdown",
   "metadata": {},
   "source": [
    "[Put the aggregate data together into one DataFrame so that one record in it would represent what an unique user consumed in a given month.]"
   ]
  },
  {
   "cell_type": "code",
   "execution_count": 29,
   "metadata": {},
   "outputs": [
    {
     "name": "stdout",
     "output_type": "stream",
     "text": [
      "    user_id  month  calls_per_month  minutes_per_month  messages_per_month  \\\n",
      "0      1000     12             16.0              124.0                11.0   \n",
      "1      1001      8             22.0              182.0                30.0   \n",
      "2      1001      9             38.0              315.0                44.0   \n",
      "3      1001     10             47.0              393.0                53.0   \n",
      "4      1001     11             49.0              426.0                36.0   \n",
      "5      1001     12             46.0              412.0                44.0   \n",
      "6      1002     10              8.0               59.0                15.0   \n",
      "7      1002     11             48.0              386.0                32.0   \n",
      "8      1002     12             38.0              384.0                41.0   \n",
      "9      1003     12            118.0             1104.0                50.0   \n",
      "10     1004      5             19.0              193.0                 7.0   \n",
      "11     1004      6             33.0              275.0                18.0   \n",
      "12     1004      7             45.0              381.0                26.0   \n",
      "13     1004      8             42.0              354.0                25.0   \n",
      "14     1004      9             32.0              301.0                21.0   \n",
      "15     1004     10             47.0              365.0                24.0   \n",
      "16     1004     11             45.0              476.0                25.0   \n",
      "17     1004     12             43.0              427.0                31.0   \n",
      "18     1005     12             50.0              496.0                11.0   \n",
      "19     1006     11              2.0               10.0                15.0   \n",
      "\n",
      "    monthly_gb_used_rounded      plan  \n",
      "0                       2.0  ultimate  \n",
      "1                       7.0      surf  \n",
      "2                      14.0      surf  \n",
      "3                      22.0      surf  \n",
      "4                      19.0      surf  \n",
      "5                      19.0      surf  \n",
      "6                       7.0      surf  \n",
      "7                      19.0      surf  \n",
      "8                      15.0      surf  \n",
      "9                      27.0      surf  \n",
      "10                      7.0      surf  \n",
      "11                     21.0      surf  \n",
      "12                     24.0      surf  \n",
      "13                     28.0      surf  \n",
      "14                     19.0      surf  \n",
      "15                     15.0      surf  \n",
      "16                     22.0      surf  \n",
      "17                     21.0      surf  \n",
      "18                     17.0      surf  \n",
      "19                      3.0  ultimate  \n"
     ]
    }
   ],
   "source": [
    "# Merge the data for calls, minutes, messages, internet based on user_id and month\n",
    "user_monthly_usage = pd.merge(monthly_calls, monthly_minutes, on=['user_id', 'month'], how='outer' )\n",
    "user_monthly_usage = pd.merge(user_monthly_usage, monthly_messages, on=['user_id', 'month'], how='outer')\n",
    "user_monthly_usage = pd.merge(user_monthly_usage, monthly_data_usage, on=['user_id', 'month'], how='outer' )\n",
    "user_monthly_usage = pd.merge(user_monthly_usage, users[['user_id', 'plan']], on='user_id', how='left')\n",
    "user_monthly_usage.drop(columns = ['monthly_mb_used'], inplace=True)\n",
    "print(user_monthly_usage.head(20))"
   ]
  },
  {
   "cell_type": "markdown",
   "metadata": {},
   "source": [
    "<div class=\"alert alert-block alert-success\"> <b>Reviewer's comment</b> <a\n",
    "class=\"tocSkip\"></a>\n",
    "Correct merge of all necessary data</div>"
   ]
  },
  {
   "cell_type": "code",
   "execution_count": 30,
   "metadata": {},
   "outputs": [
    {
     "name": "stdout",
     "output_type": "stream",
     "text": [
      "   messages_included  mb_per_month_included  gb_per_month_included  \\\n",
      "0                 50                  15360                   15.0   \n",
      "1               1000                  30720                   30.0   \n",
      "\n",
      "   minutes_included  usd_monthly_pay  usd_per_gb  usd_per_message  \\\n",
      "0               500               20          10             0.03   \n",
      "1              3000               70           7             0.01   \n",
      "\n",
      "   usd_per_minute plan_name  \n",
      "0            0.03      surf  \n",
      "1            0.01  ultimate  \n",
      "\n",
      "\n",
      "\n",
      "    user_id  month  calls_per_month  minutes_per_month  messages_per_month  \\\n",
      "0      1000     12             16.0              124.0                11.0   \n",
      "1      1001      8             22.0              182.0                30.0   \n",
      "2      1001      9             38.0              315.0                44.0   \n",
      "3      1001     10             47.0              393.0                53.0   \n",
      "4      1001     11             49.0              426.0                36.0   \n",
      "5      1001     12             46.0              412.0                44.0   \n",
      "6      1002     10              8.0               59.0                15.0   \n",
      "7      1002     11             48.0              386.0                32.0   \n",
      "8      1002     12             38.0              384.0                41.0   \n",
      "9      1003     12            118.0             1104.0                50.0   \n",
      "10     1004      5             19.0              193.0                 7.0   \n",
      "11     1004      6             33.0              275.0                18.0   \n",
      "12     1004      7             45.0              381.0                26.0   \n",
      "13     1004      8             42.0              354.0                25.0   \n",
      "14     1004      9             32.0              301.0                21.0   \n",
      "\n",
      "    monthly_gb_used_rounded      plan  messages_included  \\\n",
      "0                       2.0  ultimate               1000   \n",
      "1                       7.0      surf                 50   \n",
      "2                      14.0      surf                 50   \n",
      "3                      22.0      surf                 50   \n",
      "4                      19.0      surf                 50   \n",
      "5                      19.0      surf                 50   \n",
      "6                       7.0      surf                 50   \n",
      "7                      19.0      surf                 50   \n",
      "8                      15.0      surf                 50   \n",
      "9                      27.0      surf                 50   \n",
      "10                      7.0      surf                 50   \n",
      "11                     21.0      surf                 50   \n",
      "12                     24.0      surf                 50   \n",
      "13                     28.0      surf                 50   \n",
      "14                     19.0      surf                 50   \n",
      "\n",
      "    mb_per_month_included  gb_per_month_included  minutes_included  \\\n",
      "0                   30720                   30.0              3000   \n",
      "1                   15360                   15.0               500   \n",
      "2                   15360                   15.0               500   \n",
      "3                   15360                   15.0               500   \n",
      "4                   15360                   15.0               500   \n",
      "5                   15360                   15.0               500   \n",
      "6                   15360                   15.0               500   \n",
      "7                   15360                   15.0               500   \n",
      "8                   15360                   15.0               500   \n",
      "9                   15360                   15.0               500   \n",
      "10                  15360                   15.0               500   \n",
      "11                  15360                   15.0               500   \n",
      "12                  15360                   15.0               500   \n",
      "13                  15360                   15.0               500   \n",
      "14                  15360                   15.0               500   \n",
      "\n",
      "    usd_monthly_pay  usd_per_gb  usd_per_message  usd_per_minute plan_name  \n",
      "0                70           7             0.01            0.01  ultimate  \n",
      "1                20          10             0.03            0.03      surf  \n",
      "2                20          10             0.03            0.03      surf  \n",
      "3                20          10             0.03            0.03      surf  \n",
      "4                20          10             0.03            0.03      surf  \n",
      "5                20          10             0.03            0.03      surf  \n",
      "6                20          10             0.03            0.03      surf  \n",
      "7                20          10             0.03            0.03      surf  \n",
      "8                20          10             0.03            0.03      surf  \n",
      "9                20          10             0.03            0.03      surf  \n",
      "10               20          10             0.03            0.03      surf  \n",
      "11               20          10             0.03            0.03      surf  \n",
      "12               20          10             0.03            0.03      surf  \n",
      "13               20          10             0.03            0.03      surf  \n",
      "14               20          10             0.03            0.03      surf  \n"
     ]
    }
   ],
   "source": [
    "# Add the plan information\n",
    "print(plans)\n",
    "print()\n",
    "print()\n",
    "print()\n",
    "user_monthly_usage_w_plan = pd.merge(user_monthly_usage, plans, left_on='plan', right_on='plan_name', how='left')\n",
    "print(user_monthly_usage_w_plan.head(15))"
   ]
  },
  {
   "cell_type": "markdown",
   "metadata": {},
   "source": [
    "[Calculate the monthly revenue from each user (subtract the free package limit from the total number of calls, text messages, and data; multiply the result by the calling plan value; add the monthly charge depending on the calling plan). N.B. This might not be as trivial as just a couple of lines given the plan conditions! So, it's okay to spend some time on it.]"
   ]
  },
  {
   "cell_type": "code",
   "execution_count": 31,
   "metadata": {},
   "outputs": [
    {
     "name": "stdout",
     "output_type": "stream",
     "text": [
      "          plan  user_id  month  base_fee  minutes_overage_charge  \\\n",
      "0     ultimate     1000     12        70                     0.0   \n",
      "1         surf     1001      8        20                     0.0   \n",
      "2         surf     1001      9        20                     0.0   \n",
      "3         surf     1001     10        20                     0.0   \n",
      "4         surf     1001     11        20                     0.0   \n",
      "...        ...      ...    ...       ...                     ...   \n",
      "2288  ultimate     1407     11        70                     0.0   \n",
      "2289  ultimate     1482     10        70                     0.0   \n",
      "2290      surf     1094     10        20                     0.0   \n",
      "2291  ultimate     1108     12        70                     0.0   \n",
      "2292  ultimate     1311      6        70                     0.0   \n",
      "\n",
      "      messages_overage_charge  data_overage_charge  total_monthly_revenue  \n",
      "0                        0.00                  0.0                  70.00  \n",
      "1                        0.00                  0.0                  20.00  \n",
      "2                        0.00                  0.0                  20.00  \n",
      "3                        0.09                 70.0                  90.09  \n",
      "4                        0.00                 40.0                  60.00  \n",
      "...                       ...                  ...                    ...  \n",
      "2288                     0.00                  0.0                  70.00  \n",
      "2289                     0.00                  0.0                  70.00  \n",
      "2290                     0.00                  0.0                  20.00  \n",
      "2291                     0.00                  0.0                  70.00  \n",
      "2292                     0.00                  0.0                  70.00  \n",
      "\n",
      "[2293 rows x 8 columns]\n"
     ]
    }
   ],
   "source": [
    "monthly_revenue = pd.DataFrame()\n",
    "\n",
    "user_monthly_usage_w_plan.fillna(0, inplace=True)\n",
    "monthly_revenue['plan'] = user_monthly_usage_w_plan['plan']\n",
    "\n",
    "\n",
    "monthly_revenue['user_id'] = user_monthly_usage_w_plan['user_id']\n",
    "monthly_revenue['month'] = user_monthly_usage_w_plan['month']\n",
    "\n",
    "\n",
    "monthly_revenue['base_fee'] = user_monthly_usage_w_plan['usd_monthly_pay']\n",
    "\n",
    "\n",
    "monthly_revenue['minutes_overage_charge'] = (\n",
    "    (user_monthly_usage_w_plan['minutes_per_month'] - user_monthly_usage_w_plan['minutes_included']).clip(lower=0) \n",
    "    * user_monthly_usage_w_plan['usd_per_minute']\n",
    ")\n",
    "\n",
    "\n",
    "monthly_revenue['messages_overage_charge'] = (\n",
    "    (user_monthly_usage_w_plan['messages_per_month'] - user_monthly_usage_w_plan['messages_included']).clip(lower=0)\n",
    "    * user_monthly_usage_w_plan['usd_per_message']\n",
    ")\n",
    "\n",
    "\n",
    "monthly_revenue['data_overage_charge'] = (\n",
    "    (user_monthly_usage_w_plan['monthly_gb_used_rounded'] - user_monthly_usage_w_plan['gb_per_month_included']).clip(lower=0)\n",
    "    * user_monthly_usage_w_plan['usd_per_gb']\n",
    ")\n",
    "\n",
    "\n",
    "monthly_revenue['total_monthly_revenue'] = (\n",
    "    monthly_revenue['base_fee'] +\n",
    "    monthly_revenue['minutes_overage_charge'] +\n",
    "    monthly_revenue['messages_overage_charge'] +\n",
    "    monthly_revenue['data_overage_charge']\n",
    ")\n",
    "\n",
    "\n",
    "print(monthly_revenue)"
   ]
  },
  {
   "cell_type": "markdown",
   "metadata": {},
   "source": [
    "<div class=\"alert alert-block alert-success\"> <b>Reviewer's comment</b> <a\n",
    "class=\"tocSkip\"></a>\n",
    "Right Amazing calculations Specialy using of clip</div>"
   ]
  },
  {
   "cell_type": "markdown",
   "metadata": {},
   "source": [
    "## Study user behaviour"
   ]
  },
  {
   "cell_type": "markdown",
   "metadata": {},
   "source": [
    "[Calculate some useful descriptive statistics for the aggregated and merged data, which typically reveal an overall picture captured by the data. Draw useful plots to help the understanding. Given that the main task is to compare the plans and decide on which one is more profitable, the statistics and the plots should be calculated on a per-plan basis.]\n",
    "\n",
    "[There are relevant hints in the comments for Calls but they are not provided for Messages and Internet though the principle of statistical study is the same for them as for Calls.]"
   ]
  },
  {
   "cell_type": "markdown",
   "metadata": {},
   "source": [
    "### Calls"
   ]
  },
  {
   "cell_type": "code",
   "execution_count": 32,
   "metadata": {},
   "outputs": [
    {
     "name": "stdout",
     "output_type": "stream",
     "text": [
      "        plan  month  avg_duration\n",
      "0       surf      1    203.000000\n",
      "1       surf      2    297.000000\n",
      "2       surf      3    330.000000\n",
      "3       surf      4    351.540000\n",
      "4       surf      5    399.584416\n",
      "5       surf      6    431.298969\n",
      "6       surf      7    449.983471\n",
      "7       surf      8    410.111111\n",
      "8       surf      9    414.226804\n",
      "9       surf     10    429.729958\n",
      "10      surf     11    423.325088\n",
      "11      surf     12    473.836478\n",
      "12  ultimate      1    193.500000\n",
      "13  ultimate      2    403.142857\n",
      "14  ultimate      3    304.250000\n",
      "15  ultimate      4    336.857143\n",
      "16  ultimate      5    406.241379\n",
      "17  ultimate      6    370.957447\n",
      "18  ultimate      7    427.067797\n",
      "19  ultimate      8    421.436620\n",
      "20  ultimate      9    437.511628\n",
      "21  ultimate     10    450.735849\n",
      "22  ultimate     11    445.196850\n",
      "23  ultimate     12    459.099338\n"
     ]
    },
    {
     "data": {
      "image/png": "[encoded data removed]",
      "text/plain": [
       "<Figure size 1200x600 with 1 Axes>"
      ]
     },
     "metadata": {},
     "output_type": "display_data"
    }
   ],
   "source": [
    "# Compare average duration of calls per each plan per each distinct month. Plot a bar plat to visualize it.\n",
    "avg_duration_per_plan = user_monthly_usage_w_plan.groupby(['plan', 'month']).agg(avg_duration=('minutes_per_month', 'mean')).reset_index()\n",
    "print(avg_duration_per_plan.head(24))\n",
    "\n",
    "avg_duration_pivot = avg_duration_per_plan.pivot(index='month', columns='plan', values='avg_duration')\n",
    "avg_duration_pivot.plot(kind='bar', figsize=(12, 6))\n",
    "plt.xlabel('Month')\n",
    "plt.ylabel('Average Call Duration (minutes)')\n",
    "plt.title('Average Call Duration per Plan per Month')\n",
    "plt.legend(title='Plan')\n",
    "plt.xticks(rotation=45)\n",
    "plt.show()"
   ]
  },
  {
   "cell_type": "code",
   "execution_count": 33,
   "metadata": {},
   "outputs": [
    {
     "name": "stdout",
     "output_type": "stream",
     "text": [
      "1    182.0\n",
      "2    315.0\n",
      "3    393.0\n",
      "4    426.0\n",
      "5    412.0\n",
      "Name: minutes_per_month, dtype: float64\n",
      "0     124.0\n",
      "19     10.0\n",
      "20     59.0\n",
      "26    476.0\n",
      "27    446.0\n",
      "Name: minutes_per_month, dtype: float64\n"
     ]
    },
    {
     "data": {
      "image/png": "[encoded data removed]",
      "text/plain": [
       "<Figure size 1200x600 with 1 Axes>"
      ]
     },
     "metadata": {},
     "output_type": "display_data"
    }
   ],
   "source": [
    "# Compare the number of minutes users of each plan require each month. Plot a histogram.\n",
    "surf_minutes = user_monthly_usage_w_plan[user_monthly_usage_w_plan['plan'] == 'surf']['minutes_per_month']\n",
    "ultimate_minutes = user_monthly_usage_w_plan[user_monthly_usage_w_plan['plan'] == 'ultimate']['minutes_per_month']\n",
    "print(surf_minutes.head())\n",
    "print(ultimate_minutes.head())\n",
    "\n",
    "plt.figure(figsize=(12, 6))\n",
    "\n",
    "plt.hist(surf_minutes, bins=20, alpha=0.7, label='Surf')\n",
    "\n",
    "plt.hist(ultimate_minutes, bins=20, alpha=0.7, label='Ultimate')\n",
    "\n",
    "plt.xlabel('Minutes per Month')\n",
    "plt.ylabel('Frequency')\n",
    "plt.title('Distribution of Monthly Call Minutes Required by Plan')\n",
    "plt.legend(title='Plan')\n",
    "plt.show()\n"
   ]
  },
  {
   "cell_type": "markdown",
   "metadata": {},
   "source": [
    "We can see here that for both plans, the peak is between 400 - 600. Our mean for both plans is probably around 500. The distribution is also slightly data skewed. "
   ]
  },
  {
   "cell_type": "markdown",
   "metadata": {},
   "source": [
    "[Calculate the mean and the variable of the call duration to reason on whether users on the different plans have different behaviours for their calls.]"
   ]
  },
  {
   "cell_type": "code",
   "execution_count": 34,
   "metadata": {},
   "outputs": [
    {
     "name": "stdout",
     "output_type": "stream",
     "text": [
      "       plan        mean      variance\n",
      "0      surf  428.749523  54968.279461\n",
      "1  ultimate  430.450000  57844.464812\n"
     ]
    }
   ],
   "source": [
    "# Calculate the mean and the variance of the monthly call duration\n",
    "monthly_duration_stats = user_monthly_usage_w_plan.groupby('plan')['minutes_per_month'].agg(mean= 'mean', variance='var').reset_index()\n",
    "\n",
    "print(monthly_duration_stats)"
   ]
  },
  {
   "cell_type": "code",
   "execution_count": 35,
   "metadata": {},
   "outputs": [
    {
     "data": {
      "text/plain": [
       "<Figure size 1000x600 with 0 Axes>"
      ]
     },
     "metadata": {},
     "output_type": "display_data"
    },
    {
     "data": {
      "image/png": "[encoded data removed]",
      "text/plain": [
       "<Figure size 640x480 with 1 Axes>"
      ]
     },
     "metadata": {},
     "output_type": "display_data"
    }
   ],
   "source": [
    "# Plot a boxplot to visualize the distribution of the monthly call duration\n",
    "plt.figure(figsize=(10,6))\n",
    "\n",
    "user_monthly_usage_w_plan.boxplot(column='minutes_per_month', by='plan')\n",
    "\n",
    "plt.title('Distribution of Monthly Call Duration by Plan')\n",
    "plt.xlabel('Plan')\n",
    "plt.ylabel('Monthly Call Duration (minutes)')\n",
    "plt.show()"
   ]
  },
  {
   "cell_type": "markdown",
   "metadata": {},
   "source": [
    "[Formulate conclusions on how the users behave in terms of calling. Is their behaviour different between the plans?]"
   ]
  },
  {
   "cell_type": "markdown",
   "metadata": {},
   "source": [
    "The Median and Means of the call duration for users are both very similar. According to the box plot, it seems the behavior between the two plans for call duration are extremely similar. "
   ]
  },
  {
   "cell_type": "markdown",
   "metadata": {},
   "source": [
    "<div class=\"alert alert-block alert-success\"> <b>Reviewer's comment</b> <a\n",
    "class=\"tocSkip\"></a>\n",
    "Very detailed analysis of calls</div>"
   ]
  },
  {
   "cell_type": "markdown",
   "metadata": {},
   "source": [
    " "
   ]
  },
  {
   "cell_type": "markdown",
   "metadata": {},
   "source": [
    "### Messages"
   ]
  },
  {
   "cell_type": "code",
   "execution_count": 36,
   "metadata": {},
   "outputs": [
    {
     "name": "stdout",
     "output_type": "stream",
     "text": [
      "        plan  month  total_messages\n",
      "0       surf      1            21.0\n",
      "1       surf      2           108.0\n",
      "2       surf      3           351.0\n",
      "3       surf      4           870.0\n",
      "4       surf      5          1849.0\n",
      "5       surf      6          2454.0\n",
      "6       surf      7          3271.0\n",
      "7       surf      8          4662.0\n",
      "8       surf      9          5968.0\n",
      "9       surf     10          8020.0\n",
      "10      surf     11          9165.0\n",
      "11      surf     12         12275.0\n",
      "12  ultimate      1            62.0\n",
      "13  ultimate      2           151.0\n",
      "14  ultimate      3           243.0\n",
      "15  ultimate      4           463.0\n",
      "16  ultimate      5           931.0\n",
      "17  ultimate      6          1379.0\n",
      "18  ultimate      7          1937.0\n",
      "19  ultimate      8          2732.0\n",
      "20  ultimate      9          3259.0\n",
      "21  ultimate     10          4181.0\n",
      "22  ultimate     11          4903.0\n",
      "23  ultimate     12          6796.0\n"
     ]
    }
   ],
   "source": [
    "# Compare the number of messages users of each plan tend to send each month\n",
    "tot_messages = user_monthly_usage_w_plan.groupby(['plan', 'month']).agg(total_messages=('messages_per_month', 'sum')).reset_index()\n",
    "\n",
    "print(tot_messages)"
   ]
  },
  {
   "cell_type": "code",
   "execution_count": 37,
   "metadata": {},
   "outputs": [
    {
     "name": "stdout",
     "output_type": "stream",
     "text": [
      "       plan  mean_messages  median_messages  variance_messages  \\\n",
      "0      surf      31.159568             24.0        1126.724522   \n",
      "1  ultimate      37.551389             30.0        1208.756744   \n",
      "\n",
      "   std_dev_messages  \n",
      "0         33.566717  \n",
      "1         34.767179  \n"
     ]
    }
   ],
   "source": [
    "message_stats = user_monthly_usage_w_plan.groupby('plan')['messages_per_month'].agg(\n",
    "    mean_messages='mean',\n",
    "    median_messages='median',\n",
    "    variance_messages='var',\n",
    "    std_dev_messages='std'\n",
    ").reset_index()\n",
    "print(message_stats)"
   ]
  },
  {
   "cell_type": "markdown",
   "metadata": {},
   "source": [
    "Based on this information above, ultimate tends to send more messages, but by a very small margin, as compared to the surf plan. Their Std and Var are extremely similar, meaning the behavior of users across each plans are similar for ultimate and surf."
   ]
  },
  {
   "cell_type": "markdown",
   "metadata": {},
   "source": [
    "Histogram"
   ]
  },
  {
   "cell_type": "code",
   "execution_count": 38,
   "metadata": {},
   "outputs": [
    {
     "data": {
      "image/png": "[encoded data removed]",
      "text/plain": [
       "<Figure size 1000x600 with 1 Axes>"
      ]
     },
     "metadata": {},
     "output_type": "display_data"
    }
   ],
   "source": [
    "surf_messages = user_monthly_usage_w_plan[user_monthly_usage_w_plan['plan'] == 'surf']['messages_per_month']\n",
    "ultimate_messages = user_monthly_usage_w_plan[user_monthly_usage_w_plan['plan'] == 'ultimate']['messages_per_month']\n",
    "\n",
    "plt.figure(figsize=(10, 6))\n",
    "\n",
    "plt.hist(surf_messages, bins=10, alpha=0.6, label='Surf')\n",
    "\n",
    "plt.hist(ultimate_messages, bins=10, alpha=0.6, label='Ultimate')\n",
    "\n",
    "plt.xlabel('Messages per Month')\n",
    "plt.ylabel('Frequency')\n",
    "plt.title('Distribution of Monthly Messages by Plan')\n",
    "plt.legend(title='Plan')\n",
    "plt.show()"
   ]
  },
  {
   "cell_type": "markdown",
   "metadata": {},
   "source": [
    "Box plot"
   ]
  },
  {
   "cell_type": "code",
   "execution_count": 39,
   "metadata": {},
   "outputs": [
    {
     "data": {
      "text/plain": [
       "<Figure size 1000x600 with 0 Axes>"
      ]
     },
     "metadata": {},
     "output_type": "display_data"
    },
    {
     "data": {
      "image/png": "[encoded data removed]",
      "text/plain": [
       "<Figure size 640x480 with 1 Axes>"
      ]
     },
     "metadata": {},
     "output_type": "display_data"
    }
   ],
   "source": [
    "plt.figure(figsize=(10,6))\n",
    "\n",
    "user_monthly_usage_w_plan.boxplot(column='messages_per_month', by='plan')\n",
    "\n",
    "plt.title('Distribution of Messages by Plan')\n",
    "plt.xlabel('Plan')\n",
    "plt.ylabel('Monthly Messages')\n",
    "plt.show()"
   ]
  },
  {
   "cell_type": "markdown",
   "metadata": {},
   "source": [
    "<div class=\"alert alert-block alert-danger\">\n",
    "<b>Reviewer's comment</b> <a class=\"tocSkip\"></a>\n",
    "    \n",
    "~~Please add boxplots or histograms like you made it for calls~~ </div>"
   ]
  },
  {
   "cell_type": "markdown",
   "metadata": {},
   "source": [
    "[Formulate conclusions on how the users behave in terms of messaging. Is their behaviour different between the plans?]"
   ]
  },
  {
   "cell_type": "markdown",
   "metadata": {},
   "source": [
    " "
   ]
  },
  {
   "cell_type": "markdown",
   "metadata": {},
   "source": [
    "### Internet"
   ]
  },
  {
   "cell_type": "code",
   "execution_count": 40,
   "metadata": {},
   "outputs": [
    {
     "name": "stdout",
     "output_type": "stream",
     "text": [
      "       plan  total_traffic\n",
      "0      surf        26245.0\n",
      "1  ultimate        12481.0\n"
     ]
    }
   ],
   "source": [
    "# Compare the amount of internet traffic consumed by users per plan\n",
    "total_gb_per_plan = user_monthly_usage_w_plan.groupby('plan').agg(total_traffic=('monthly_gb_used_rounded', 'sum')).reset_index()\n",
    "print(total_gb_per_plan)"
   ]
  },
  {
   "cell_type": "code",
   "execution_count": 41,
   "metadata": {},
   "outputs": [
    {
     "name": "stdout",
     "output_type": "stream",
     "text": [
      "       plan  mean_data  median_data  variance_data  std_dev_data\n",
      "0      surf  16.684679         17.0      61.654962      7.852067\n",
      "1  ultimate  17.334722         17.0      58.940656      7.677282\n"
     ]
    }
   ],
   "source": [
    "internet_stats = user_monthly_usage_w_plan.groupby('plan')['monthly_gb_used_rounded'].agg(\n",
    "    mean_data='mean',\n",
    "    median_data='median',\n",
    "    variance_data='var',\n",
    "    std_dev_data='std'\n",
    ").reset_index()\n",
    "print(internet_stats)"
   ]
  },
  {
   "cell_type": "markdown",
   "metadata": {},
   "source": [
    "Based on this information above, ultimate tends to use slightly more data, based on the mean alone, as compared to the surf plan. Their Std and Var are extremely similar, meaning the behavior of users across each plans are similar for ultimate and surf."
   ]
  },
  {
   "cell_type": "markdown",
   "metadata": {},
   "source": [
    "Histogram"
   ]
  },
  {
   "cell_type": "code",
   "execution_count": 42,
   "metadata": {},
   "outputs": [
    {
     "data": {
      "image/png": "[encoded data removed]",
      "text/plain": [
       "<Figure size 1000x600 with 1 Axes>"
      ]
     },
     "metadata": {},
     "output_type": "display_data"
    }
   ],
   "source": [
    "surf_data_used = user_monthly_usage_w_plan[user_monthly_usage_w_plan['plan'] == 'surf']['monthly_gb_used_rounded']\n",
    "ultimate_data_used = user_monthly_usage_w_plan[user_monthly_usage_w_plan['plan'] == 'ultimate']['monthly_gb_used_rounded']\n",
    "\n",
    "plt.figure(figsize=(10, 6))\n",
    "\n",
    "plt.hist(surf_data_used, bins=20, alpha=0.6, label='Surf')\n",
    "\n",
    "plt.hist(ultimate_data_used, bins=20, alpha=0.6, label='Ultimate')\n",
    "\n",
    "plt.xlabel('GB Used per Month')\n",
    "plt.ylabel('Frequency')\n",
    "plt.title('Distribution of GB Used by Plan')\n",
    "plt.legend(title='Plan')\n",
    "plt.show()"
   ]
  },
  {
   "cell_type": "markdown",
   "metadata": {},
   "source": [
    "<div class=\"alert alert-block alert-danger\">\n",
    "<b>Reviewer's comment</b> <a class=\"tocSkip\"></a>\n",
    "    \n",
    "~~Please add boxplots or histograms like you made it for calls~~ </div>"
   ]
  },
  {
   "cell_type": "markdown",
   "metadata": {},
   "source": [
    "[Formulate conclusions on how the users tend to consume the internet traffic? Is their behaviour different between the plans?]"
   ]
  },
  {
   "cell_type": "markdown",
   "metadata": {},
   "source": [
    "Box plot"
   ]
  },
  {
   "cell_type": "code",
   "execution_count": 43,
   "metadata": {},
   "outputs": [
    {
     "data": {
      "text/plain": [
       "<Figure size 1000x600 with 0 Axes>"
      ]
     },
     "metadata": {},
     "output_type": "display_data"
    },
    {
     "data": {
      "image/png": "[encoded data removed]",
      "text/plain": [
       "<Figure size 640x480 with 1 Axes>"
      ]
     },
     "metadata": {},
     "output_type": "display_data"
    }
   ],
   "source": [
    "plt.figure(figsize=(10,6))\n",
    "\n",
    "user_monthly_usage_w_plan.boxplot(column='monthly_gb_used_rounded', by='plan')\n",
    "\n",
    "plt.title('Distribution of GB Used by Plan')\n",
    "plt.xlabel('Plan')\n",
    "plt.ylabel('Monthly GB Used')\n",
    "plt.show()"
   ]
  },
  {
   "cell_type": "markdown",
   "metadata": {},
   "source": [
    "## Revenue"
   ]
  },
  {
   "cell_type": "markdown",
   "metadata": {},
   "source": [
    "[Likewise you have studied the user behaviour, statistically describe the revenue between the plans.]"
   ]
  },
  {
   "cell_type": "code",
   "execution_count": 44,
   "metadata": {},
   "outputs": [
    {
     "name": "stdout",
     "output_type": "stream",
     "text": [
      "       plan  user_id  month  base_fee  minutes_overage_charge  \\\n",
      "0  ultimate     1000     12        70                     0.0   \n",
      "1      surf     1001      8        20                     0.0   \n",
      "2      surf     1001      9        20                     0.0   \n",
      "3      surf     1001     10        20                     0.0   \n",
      "4      surf     1001     11        20                     0.0   \n",
      "\n",
      "   messages_overage_charge  data_overage_charge  total_monthly_revenue  \n",
      "0                     0.00                  0.0                  70.00  \n",
      "1                     0.00                  0.0                  20.00  \n",
      "2                     0.00                  0.0                  20.00  \n",
      "3                     0.09                 70.0                  90.09  \n",
      "4                     0.00                 40.0                  60.00  \n"
     ]
    }
   ],
   "source": [
    "print(monthly_revenue.head(5))"
   ]
  },
  {
   "cell_type": "code",
   "execution_count": 45,
   "metadata": {},
   "outputs": [
    {
     "name": "stdout",
     "output_type": "stream",
     "text": [
      "       plan  user_count\n",
      "0      surf         333\n",
      "1  ultimate         157\n"
     ]
    }
   ],
   "source": [
    "unique_user_counts = user_monthly_usage_w_plan.groupby('plan')['user_id'].nunique().reset_index(name='user_count')\n",
    "print(unique_user_counts)"
   ]
  },
  {
   "cell_type": "code",
   "execution_count": 46,
   "metadata": {},
   "outputs": [
    {
     "data": {
      "text/html": [
       "<div>\n",
       "<style scoped>\n",
       "    .dataframe tbody tr th:only-of-type {\n",
       "        vertical-align: middle;\n",
       "    }\n",
       "\n",
       "    .dataframe tbody tr th {\n",
       "        vertical-align: top;\n",
       "    }\n",
       "\n",
       "    .dataframe thead th {\n",
       "        text-align: right;\n",
       "    }\n",
       "</style>\n",
       "<table border=\"1\" class=\"dataframe\">\n",
       "  <thead>\n",
       "    <tr style=\"text-align: right;\">\n",
       "      <th></th>\n",
       "      <th>plan</th>\n",
       "      <th>month</th>\n",
       "      <th>avg_monthly_rev</th>\n",
       "    </tr>\n",
       "  </thead>\n",
       "  <tbody>\n",
       "    <tr>\n",
       "      <th>0</th>\n",
       "      <td>surf</td>\n",
       "      <td>1</td>\n",
       "      <td>20.000000</td>\n",
       "    </tr>\n",
       "    <tr>\n",
       "      <th>1</th>\n",
       "      <td>surf</td>\n",
       "      <td>2</td>\n",
       "      <td>34.396667</td>\n",
       "    </tr>\n",
       "    <tr>\n",
       "      <th>2</th>\n",
       "      <td>surf</td>\n",
       "      <td>3</td>\n",
       "      <td>45.941304</td>\n",
       "    </tr>\n",
       "    <tr>\n",
       "      <th>3</th>\n",
       "      <td>surf</td>\n",
       "      <td>4</td>\n",
       "      <td>40.710600</td>\n",
       "    </tr>\n",
       "    <tr>\n",
       "      <th>4</th>\n",
       "      <td>surf</td>\n",
       "      <td>5</td>\n",
       "      <td>47.628182</td>\n",
       "    </tr>\n",
       "    <tr>\n",
       "      <th>5</th>\n",
       "      <td>surf</td>\n",
       "      <td>6</td>\n",
       "      <td>49.276289</td>\n",
       "    </tr>\n",
       "    <tr>\n",
       "      <th>6</th>\n",
       "      <td>surf</td>\n",
       "      <td>7</td>\n",
       "      <td>62.839339</td>\n",
       "    </tr>\n",
       "    <tr>\n",
       "      <th>7</th>\n",
       "      <td>surf</td>\n",
       "      <td>8</td>\n",
       "      <td>64.054630</td>\n",
       "    </tr>\n",
       "    <tr>\n",
       "      <th>8</th>\n",
       "      <td>surf</td>\n",
       "      <td>9</td>\n",
       "      <td>58.271495</td>\n",
       "    </tr>\n",
       "    <tr>\n",
       "      <th>9</th>\n",
       "      <td>surf</td>\n",
       "      <td>10</td>\n",
       "      <td>65.590000</td>\n",
       "    </tr>\n",
       "    <tr>\n",
       "      <th>10</th>\n",
       "      <td>surf</td>\n",
       "      <td>11</td>\n",
       "      <td>58.110283</td>\n",
       "    </tr>\n",
       "    <tr>\n",
       "      <th>11</th>\n",
       "      <td>surf</td>\n",
       "      <td>12</td>\n",
       "      <td>70.651384</td>\n",
       "    </tr>\n",
       "    <tr>\n",
       "      <th>12</th>\n",
       "      <td>ultimate</td>\n",
       "      <td>1</td>\n",
       "      <td>70.000000</td>\n",
       "    </tr>\n",
       "    <tr>\n",
       "      <th>13</th>\n",
       "      <td>ultimate</td>\n",
       "      <td>2</td>\n",
       "      <td>70.000000</td>\n",
       "    </tr>\n",
       "    <tr>\n",
       "      <th>14</th>\n",
       "      <td>ultimate</td>\n",
       "      <td>3</td>\n",
       "      <td>74.666667</td>\n",
       "    </tr>\n",
       "    <tr>\n",
       "      <th>15</th>\n",
       "      <td>ultimate</td>\n",
       "      <td>4</td>\n",
       "      <td>73.000000</td>\n",
       "    </tr>\n",
       "    <tr>\n",
       "      <th>16</th>\n",
       "      <td>ultimate</td>\n",
       "      <td>5</td>\n",
       "      <td>70.724138</td>\n",
       "    </tr>\n",
       "    <tr>\n",
       "      <th>17</th>\n",
       "      <td>ultimate</td>\n",
       "      <td>6</td>\n",
       "      <td>71.638298</td>\n",
       "    </tr>\n",
       "    <tr>\n",
       "      <th>18</th>\n",
       "      <td>ultimate</td>\n",
       "      <td>7</td>\n",
       "      <td>71.898305</td>\n",
       "    </tr>\n",
       "    <tr>\n",
       "      <th>19</th>\n",
       "      <td>ultimate</td>\n",
       "      <td>8</td>\n",
       "      <td>72.859155</td>\n",
       "    </tr>\n",
       "    <tr>\n",
       "      <th>20</th>\n",
       "      <td>ultimate</td>\n",
       "      <td>9</td>\n",
       "      <td>72.034884</td>\n",
       "    </tr>\n",
       "    <tr>\n",
       "      <th>21</th>\n",
       "      <td>ultimate</td>\n",
       "      <td>10</td>\n",
       "      <td>72.311321</td>\n",
       "    </tr>\n",
       "    <tr>\n",
       "      <th>22</th>\n",
       "      <td>ultimate</td>\n",
       "      <td>11</td>\n",
       "      <td>71.763780</td>\n",
       "    </tr>\n",
       "    <tr>\n",
       "      <th>23</th>\n",
       "      <td>ultimate</td>\n",
       "      <td>12</td>\n",
       "      <td>73.337748</td>\n",
       "    </tr>\n",
       "  </tbody>\n",
       "</table>\n",
       "</div>"
      ],
      "text/plain": [
       "        plan  month  avg_monthly_rev\n",
       "0       surf      1        20.000000\n",
       "1       surf      2        34.396667\n",
       "2       surf      3        45.941304\n",
       "3       surf      4        40.710600\n",
       "4       surf      5        47.628182\n",
       "5       surf      6        49.276289\n",
       "6       surf      7        62.839339\n",
       "7       surf      8        64.054630\n",
       "8       surf      9        58.271495\n",
       "9       surf     10        65.590000\n",
       "10      surf     11        58.110283\n",
       "11      surf     12        70.651384\n",
       "12  ultimate      1        70.000000\n",
       "13  ultimate      2        70.000000\n",
       "14  ultimate      3        74.666667\n",
       "15  ultimate      4        73.000000\n",
       "16  ultimate      5        70.724138\n",
       "17  ultimate      6        71.638298\n",
       "18  ultimate      7        71.898305\n",
       "19  ultimate      8        72.859155\n",
       "20  ultimate      9        72.034884\n",
       "21  ultimate     10        72.311321\n",
       "22  ultimate     11        71.763780\n",
       "23  ultimate     12        73.337748"
      ]
     },
     "execution_count": 46,
     "metadata": {},
     "output_type": "execute_result"
    }
   ],
   "source": [
    "monthly_revenue.groupby(['plan', 'month']).agg(avg_monthly_rev=('total_monthly_revenue', 'mean')).reset_index()"
   ]
  },
  {
   "cell_type": "code",
   "execution_count": 47,
   "metadata": {},
   "outputs": [
    {
     "data": {
      "text/html": [
       "<div>\n",
       "<style scoped>\n",
       "    .dataframe tbody tr th:only-of-type {\n",
       "        vertical-align: middle;\n",
       "    }\n",
       "\n",
       "    .dataframe tbody tr th {\n",
       "        vertical-align: top;\n",
       "    }\n",
       "\n",
       "    .dataframe thead th {\n",
       "        text-align: right;\n",
       "    }\n",
       "</style>\n",
       "<table border=\"1\" class=\"dataframe\">\n",
       "  <thead>\n",
       "    <tr style=\"text-align: right;\">\n",
       "      <th></th>\n",
       "      <th>plan</th>\n",
       "      <th>month</th>\n",
       "      <th>total_monthly_rev</th>\n",
       "    </tr>\n",
       "  </thead>\n",
       "  <tbody>\n",
       "    <tr>\n",
       "      <th>0</th>\n",
       "      <td>surf</td>\n",
       "      <td>1</td>\n",
       "      <td>40.00</td>\n",
       "    </tr>\n",
       "    <tr>\n",
       "      <th>1</th>\n",
       "      <td>surf</td>\n",
       "      <td>2</td>\n",
       "      <td>309.57</td>\n",
       "    </tr>\n",
       "    <tr>\n",
       "      <th>2</th>\n",
       "      <td>surf</td>\n",
       "      <td>3</td>\n",
       "      <td>1056.65</td>\n",
       "    </tr>\n",
       "    <tr>\n",
       "      <th>3</th>\n",
       "      <td>surf</td>\n",
       "      <td>4</td>\n",
       "      <td>2035.53</td>\n",
       "    </tr>\n",
       "    <tr>\n",
       "      <th>4</th>\n",
       "      <td>surf</td>\n",
       "      <td>5</td>\n",
       "      <td>3667.37</td>\n",
       "    </tr>\n",
       "    <tr>\n",
       "      <th>5</th>\n",
       "      <td>surf</td>\n",
       "      <td>6</td>\n",
       "      <td>4779.80</td>\n",
       "    </tr>\n",
       "    <tr>\n",
       "      <th>6</th>\n",
       "      <td>surf</td>\n",
       "      <td>7</td>\n",
       "      <td>7603.56</td>\n",
       "    </tr>\n",
       "    <tr>\n",
       "      <th>7</th>\n",
       "      <td>surf</td>\n",
       "      <td>8</td>\n",
       "      <td>10376.85</td>\n",
       "    </tr>\n",
       "    <tr>\n",
       "      <th>8</th>\n",
       "      <td>surf</td>\n",
       "      <td>9</td>\n",
       "      <td>11304.67</td>\n",
       "    </tr>\n",
       "    <tr>\n",
       "      <th>9</th>\n",
       "      <td>surf</td>\n",
       "      <td>10</td>\n",
       "      <td>15544.83</td>\n",
       "    </tr>\n",
       "    <tr>\n",
       "      <th>10</th>\n",
       "      <td>surf</td>\n",
       "      <td>11</td>\n",
       "      <td>16445.21</td>\n",
       "    </tr>\n",
       "    <tr>\n",
       "      <th>11</th>\n",
       "      <td>surf</td>\n",
       "      <td>12</td>\n",
       "      <td>22467.14</td>\n",
       "    </tr>\n",
       "    <tr>\n",
       "      <th>12</th>\n",
       "      <td>ultimate</td>\n",
       "      <td>1</td>\n",
       "      <td>280.00</td>\n",
       "    </tr>\n",
       "    <tr>\n",
       "      <th>13</th>\n",
       "      <td>ultimate</td>\n",
       "      <td>2</td>\n",
       "      <td>490.00</td>\n",
       "    </tr>\n",
       "    <tr>\n",
       "      <th>14</th>\n",
       "      <td>ultimate</td>\n",
       "      <td>3</td>\n",
       "      <td>896.00</td>\n",
       "    </tr>\n",
       "    <tr>\n",
       "      <th>15</th>\n",
       "      <td>ultimate</td>\n",
       "      <td>4</td>\n",
       "      <td>1533.00</td>\n",
       "    </tr>\n",
       "    <tr>\n",
       "      <th>16</th>\n",
       "      <td>ultimate</td>\n",
       "      <td>5</td>\n",
       "      <td>2051.00</td>\n",
       "    </tr>\n",
       "    <tr>\n",
       "      <th>17</th>\n",
       "      <td>ultimate</td>\n",
       "      <td>6</td>\n",
       "      <td>3367.00</td>\n",
       "    </tr>\n",
       "    <tr>\n",
       "      <th>18</th>\n",
       "      <td>ultimate</td>\n",
       "      <td>7</td>\n",
       "      <td>4242.00</td>\n",
       "    </tr>\n",
       "    <tr>\n",
       "      <th>19</th>\n",
       "      <td>ultimate</td>\n",
       "      <td>8</td>\n",
       "      <td>5173.00</td>\n",
       "    </tr>\n",
       "    <tr>\n",
       "      <th>20</th>\n",
       "      <td>ultimate</td>\n",
       "      <td>9</td>\n",
       "      <td>6195.00</td>\n",
       "    </tr>\n",
       "    <tr>\n",
       "      <th>21</th>\n",
       "      <td>ultimate</td>\n",
       "      <td>10</td>\n",
       "      <td>7665.00</td>\n",
       "    </tr>\n",
       "    <tr>\n",
       "      <th>22</th>\n",
       "      <td>ultimate</td>\n",
       "      <td>11</td>\n",
       "      <td>9114.00</td>\n",
       "    </tr>\n",
       "    <tr>\n",
       "      <th>23</th>\n",
       "      <td>ultimate</td>\n",
       "      <td>12</td>\n",
       "      <td>11074.00</td>\n",
       "    </tr>\n",
       "  </tbody>\n",
       "</table>\n",
       "</div>"
      ],
      "text/plain": [
       "        plan  month  total_monthly_rev\n",
       "0       surf      1              40.00\n",
       "1       surf      2             309.57\n",
       "2       surf      3            1056.65\n",
       "3       surf      4            2035.53\n",
       "4       surf      5            3667.37\n",
       "5       surf      6            4779.80\n",
       "6       surf      7            7603.56\n",
       "7       surf      8           10376.85\n",
       "8       surf      9           11304.67\n",
       "9       surf     10           15544.83\n",
       "10      surf     11           16445.21\n",
       "11      surf     12           22467.14\n",
       "12  ultimate      1             280.00\n",
       "13  ultimate      2             490.00\n",
       "14  ultimate      3             896.00\n",
       "15  ultimate      4            1533.00\n",
       "16  ultimate      5            2051.00\n",
       "17  ultimate      6            3367.00\n",
       "18  ultimate      7            4242.00\n",
       "19  ultimate      8            5173.00\n",
       "20  ultimate      9            6195.00\n",
       "21  ultimate     10            7665.00\n",
       "22  ultimate     11            9114.00\n",
       "23  ultimate     12           11074.00"
      ]
     },
     "execution_count": 47,
     "metadata": {},
     "output_type": "execute_result"
    }
   ],
   "source": [
    "monthly_revenue.groupby(['plan', 'month']).agg(total_monthly_rev=('total_monthly_revenue', 'sum')).reset_index()"
   ]
  },
  {
   "cell_type": "code",
   "execution_count": 48,
   "metadata": {},
   "outputs": [
    {
     "name": "stdout",
     "output_type": "stream",
     "text": [
      "       plan  mean_revenue  median_revenue  variance_revenue  std_dev_revenue  \\\n",
      "0      surf     60.795410           40.51       3074.739571        55.450334   \n",
      "1  ultimate     72.333333           70.00        132.211405        11.498322   \n",
      "\n",
      "      total  \n",
      "0  95631.18  \n",
      "1  52080.00  \n"
     ]
    }
   ],
   "source": [
    "revenue_stats = monthly_revenue.groupby('plan')['total_monthly_revenue'].agg(\n",
    "    mean_revenue='mean',\n",
    "    median_revenue='median',\n",
    "    variance_revenue='var',\n",
    "    std_dev_revenue='std',\n",
    "    total='sum'\n",
    ").reset_index()\n",
    "\n",
    "print(revenue_stats)"
   ]
  },
  {
   "cell_type": "markdown",
   "metadata": {},
   "source": [
    "According to these stats, the total monthly revenue for Surf brings in a total amount more for Megaline, however this is because there are more than double the amount of users for the Surf Plan than Ultimate. \n",
    "\n",
    "The mean shows us that on average, the Ultimate plan brings more revenue into Megaline than the Surf plan does. It is now time to test if the difference is statistically signficant. "
   ]
  },
  {
   "cell_type": "markdown",
   "metadata": {},
   "source": [
    "<div class=\"alert alert-block alert-danger\">\n",
    "<b>Reviewer's comment</b> <a class=\"tocSkip\"></a>\n",
    "    \n",
    "~~Please add boxplots or histograms like you made it for calls~~ </div>"
   ]
  },
  {
   "cell_type": "markdown",
   "metadata": {},
   "source": [
    "Histogram"
   ]
  },
  {
   "cell_type": "code",
   "execution_count": 49,
   "metadata": {},
   "outputs": [
    {
     "data": {
      "image/png": "[encoded data removed]",
      "text/plain": [
       "<Figure size 1000x600 with 1 Axes>"
      ]
     },
     "metadata": {},
     "output_type": "display_data"
    }
   ],
   "source": [
    "surf_rev = monthly_revenue[monthly_revenue['plan'] == 'surf']['total_monthly_revenue']\n",
    "ultimate_rev = monthly_revenue[monthly_revenue['plan'] == 'ultimate']['total_monthly_revenue']\n",
    "\n",
    "plt.figure(figsize=(10, 6))\n",
    "\n",
    "plt.hist(surf_rev, bins=8, alpha=0.6, label='Surf')\n",
    "\n",
    "plt.hist(ultimate_rev, bins=8, alpha=0.6, label='Ultimate')\n",
    "\n",
    "plt.xlabel('Monthly Revenue by Plan')\n",
    "plt.ylabel('Frequency')\n",
    "plt.title('Distribution of Revenue Stream by Plan')\n",
    "plt.legend(title='Plan')\n",
    "plt.show()"
   ]
  },
  {
   "cell_type": "markdown",
   "metadata": {},
   "source": [
    "BoxPlot"
   ]
  },
  {
   "cell_type": "code",
   "execution_count": 50,
   "metadata": {},
   "outputs": [
    {
     "data": {
      "text/plain": [
       "<Figure size 1000x600 with 0 Axes>"
      ]
     },
     "metadata": {},
     "output_type": "display_data"
    },
    {
     "data": {
      "image/png": "[encoded data removed]",
      "text/plain": [
       "<Figure size 640x480 with 1 Axes>"
      ]
     },
     "metadata": {},
     "output_type": "display_data"
    }
   ],
   "source": [
    "plt.figure(figsize=(10,6))\n",
    "\n",
    "monthly_revenue.boxplot(column='total_monthly_revenue', by='plan')\n",
    "\n",
    "plt.title('Distribution of Revenue by Plan')\n",
    "plt.xlabel('Plan')\n",
    "plt.ylabel('Monthly Revenue')\n",
    "plt.show()"
   ]
  },
  {
   "cell_type": "markdown",
   "metadata": {},
   "source": [
    "[Formulate conclusions about how the revenue differs between the plans.]"
   ]
  },
  {
   "cell_type": "markdown",
   "metadata": {},
   "source": [
    " "
   ]
  },
  {
   "cell_type": "markdown",
   "metadata": {},
   "source": [
    "## Test statistical hypotheses"
   ]
  },
  {
   "cell_type": "markdown",
   "metadata": {},
   "source": [
    "[Test the hypothesis that the average revenue from users of the Ultimate and Surf calling plans differs.]"
   ]
  },
  {
   "cell_type": "markdown",
   "metadata": {},
   "source": [
    "[Formulate the null and the alternative hypotheses, choose the statistical test, decide on the alpha value.]"
   ]
  },
  {
   "cell_type": "markdown",
   "metadata": {},
   "source": [
    "Null Hypothesis: There is no statistically significant difference between revenue of the Surf and Ultimate Plans\n",
    "\n",
    "Alternative Hypothesis: There is a statistically significant difference between revenue of the Surf and Ultimate Plans"
   ]
  },
  {
   "cell_type": "code",
   "execution_count": null,
   "metadata": {},
   "outputs": [],
   "source": [
    "\n"
   ]
  },
  {
   "cell_type": "code",
   "execution_count": 51,
   "metadata": {
    "scrolled": true
   },
   "outputs": [
    {
     "name": "stdout",
     "output_type": "stream",
     "text": [
      "p_value: 5.1234033722748e-15\n",
      "We reject the null hypothesis\n"
     ]
    }
   ],
   "source": [
    "# Test the hypotheses\n",
    "\n",
    "\n",
    "surf_revenue = monthly_revenue[monthly_revenue['plan'] == 'surf']['total_monthly_revenue']\n",
    "ultimate_revenue = monthly_revenue[monthly_revenue['plan'] == 'ultimate']['total_monthly_revenue']\n",
    "\n",
    "alpha = 0.05\n",
    "\n",
    "results = st.ttest_ind(surf_revenue, ultimate_revenue, equal_var=False)\n",
    "\n",
    "print('p_value:', results.pvalue)\n",
    "\n",
    "if results.pvalue < alpha:\n",
    "    print(\"We reject the null hypothesis\")\n",
    "else:\n",
    "    print(\"We can't reject the null hypothesis\")"
   ]
  },
  {
   "cell_type": "markdown",
   "metadata": {},
   "source": [
    "Conclusion: There is no statistically significant difference between revenue of the Surf and Ultimate Plans"
   ]
  },
  {
   "cell_type": "markdown",
   "metadata": {},
   "source": [
    "<div class=\"alert alert-block alert-success\"> <b>Reviewer's comment</b> <a\n",
    "class=\"tocSkip\"></a>\n",
    "Correct result</div>"
   ]
  },
  {
   "cell_type": "markdown",
   "metadata": {},
   "source": [
    "[Test the hypothesis that the average revenue from users in the NY-NJ area is different from that of the users from the other regions.]"
   ]
  },
  {
   "cell_type": "markdown",
   "metadata": {},
   "source": []
  },
  {
   "cell_type": "code",
   "execution_count": 52,
   "metadata": {
    "scrolled": true
   },
   "outputs": [
    {
     "name": "stdout",
     "output_type": "stream",
     "text": [
      "p_value: 8.51201013401608e-18\n",
      "We reject the null hypothesis: There is a statistically significant difference in revenue between the NY-NJ area and other regions.\n"
     ]
    }
   ],
   "source": [
    "# Test the hypotheses\n",
    "\n",
    "user_monthly_usage_w_plan = user_monthly_usage_w_plan.merge(users[['user_id', 'city']], on='user_id', how='left')\n",
    "monthly_revenue = monthly_revenue.merge(user_monthly_usage_w_plan[['user_id', 'city']], on='user_id', how='left')\n",
    "\n",
    "\n",
    "ny_nj_area = [\"New York-Newark-Jersey City, NY-NJ-PA MSA\"]\n",
    "\n",
    "\n",
    "ny_nj_revenue = monthly_revenue[monthly_revenue['city'].isin(ny_nj_area)]['total_monthly_revenue']\n",
    "other_region_revenue = monthly_revenue[~monthly_revenue['city'].isin(ny_nj_area)]['total_monthly_revenue']\n",
    "\n",
    "\n",
    "alpha = 0.05\n",
    "results = st.ttest_ind(ny_nj_revenue, other_region_revenue, equal_var=False)\n",
    "\n",
    "\n",
    "print('p_value:', results.pvalue)\n",
    "if results.pvalue < alpha:\n",
    "    print(\"We reject the null hypothesis: There is a statistically significant difference in revenue between the NY-NJ area and other regions.\")\n",
    "else:\n",
    "    print(\"We can't reject the null hypothesis: There is no statistically significant difference in revenue between the NY-NJ area and other regions.\")\n"
   ]
  },
  {
   "cell_type": "markdown",
   "metadata": {},
   "source": [
    "<div class=\"alert alert-block alert-success\"> <b>Reviewer's comment</b> <a\n",
    "class=\"tocSkip\"></a>\n",
    "Well done</div>"
   ]
  },
  {
   "cell_type": "markdown",
   "metadata": {},
   "source": [
    "## General conclusion\n",
    "\n",
    "[List your important conclusions in this final section, make sure they cover all those important decisions (assumptions) that you've made and that led you to the way you processed and analyzed the data.]"
   ]
  },
  {
   "cell_type": "markdown",
   "metadata": {},
   "source": [
    "After processing all the data we come to the conclusion that between the plans for Megaline, each plan's revenue stream is not statistically significant from the other. However, revenue streams between different areas of the country may be statistically significant, as shown in the testing done above."
   ]
  },
  {
   "cell_type": "markdown",
   "metadata": {},
   "source": [
    "<div class=\"alert alert-block alert-success\"> <b>Reviewer's comment</b> <a\n",
    "class=\"tocSkip\"></a>\n",
    "Right</div>"
   ]
  },
  {
   "cell_type": "markdown",
   "metadata": {},
   "source": [
    " "
   ]
  }
 ],
 "metadata": {
  "ExecuteTimeLog": [
   {
    "duration": 828,
    "start_time": "2021-11-16T09:21:11.304Z"
   },
   {
    "duration": 893,
    "start_time": "2021-11-16T09:21:17.728Z"
   },
   {
    "duration": 1150,
    "start_time": "2021-11-16T09:21:29.568Z"
   },
   {
    "duration": 3,
    "start_time": "2021-11-16T09:24:14.495Z"
   },
   {
    "duration": 120,
    "start_time": "2021-11-16T09:24:46.630Z"
   },
   {
    "duration": 3,
    "start_time": "2021-11-16T09:28:27.882Z"
   },
   {
    "duration": 4,
    "start_time": "2021-11-16T09:29:54.281Z"
   },
   {
    "duration": 3,
    "start_time": "2021-11-16T09:30:45.936Z"
   },
   {
    "duration": 4,
    "start_time": "2021-11-16T09:31:06.300Z"
   },
   {
    "duration": 113,
    "start_time": "2021-11-16T09:31:37.208Z"
   },
   {
    "duration": 143,
    "start_time": "2021-11-16T09:31:48.656Z"
   },
   {
    "duration": 98,
    "start_time": "2021-11-16T09:31:55.678Z"
   },
   {
    "duration": 3,
    "start_time": "2021-11-16T09:32:08.535Z"
   },
   {
    "duration": 111,
    "start_time": "2021-11-16T09:32:10.120Z"
   },
   {
    "duration": 3,
    "start_time": "2021-11-16T09:32:15.732Z"
   },
   {
    "duration": 4,
    "start_time": "2021-11-16T09:32:29.423Z"
   },
   {
    "duration": 3,
    "start_time": "2021-11-16T10:03:03.074Z"
   },
   {
    "duration": 3,
    "start_time": "2021-11-16T10:10:01.288Z"
   },
   {
    "duration": 3,
    "start_time": "2021-11-16T10:10:46.923Z"
   },
   {
    "duration": 121,
    "start_time": "2021-11-16T10:37:46.494Z"
   },
   {
    "duration": 125,
    "start_time": "2021-11-16T10:38:20.632Z"
   },
   {
    "duration": 112,
    "start_time": "2021-11-16T10:46:53.001Z"
   },
   {
    "duration": 110,
    "start_time": "2021-11-16T10:48:25.775Z"
   },
   {
    "duration": 3,
    "start_time": "2021-11-16T10:50:18.720Z"
   },
   {
    "duration": 4,
    "start_time": "2021-11-16T10:50:37.649Z"
   },
   {
    "duration": 2,
    "start_time": "2021-11-16T10:50:51.884Z"
   },
   {
    "duration": 3,
    "start_time": "2021-11-16T10:51:56.237Z"
   },
   {
    "duration": 101,
    "start_time": "2021-11-16T10:53:13.791Z"
   },
   {
    "duration": 3,
    "start_time": "2021-11-16T10:55:59.186Z"
   },
   {
    "duration": 3,
    "start_time": "2021-11-16T10:56:10.751Z"
   },
   {
    "duration": 3,
    "start_time": "2021-11-16T10:56:49.038Z"
   },
   {
    "duration": 3,
    "start_time": "2021-11-16T10:56:49.174Z"
   },
   {
    "duration": 4,
    "start_time": "2021-11-16T10:56:49.414Z"
   },
   {
    "duration": 3,
    "start_time": "2021-11-16T10:56:49.680Z"
   },
   {
    "duration": 3,
    "start_time": "2021-11-16T10:56:50.370Z"
   },
   {
    "duration": 114,
    "start_time": "2021-11-16T10:59:34.518Z"
   },
   {
    "duration": 3,
    "start_time": "2021-11-16T11:01:41.201Z"
   },
   {
    "duration": 116,
    "start_time": "2021-11-16T11:01:48.754Z"
   },
   {
    "duration": 3,
    "start_time": "2021-11-16T11:02:16.685Z"
   },
   {
    "duration": 3,
    "start_time": "2021-11-16T11:02:19.479Z"
   },
   {
    "duration": 3,
    "start_time": "2021-11-16T11:02:47.067Z"
   },
   {
    "duration": 3,
    "start_time": "2021-11-16T11:02:49.353Z"
   },
   {
    "duration": 3,
    "start_time": "2021-11-16T11:03:07.835Z"
   },
   {
    "duration": 3,
    "start_time": "2021-11-16T11:03:07.953Z"
   },
   {
    "duration": 112,
    "start_time": "2021-11-16T11:07:52.072Z"
   },
   {
    "duration": 187,
    "start_time": "2021-11-16T11:09:23.468Z"
   },
   {
    "duration": 4,
    "start_time": "2021-11-16T11:10:01.455Z"
   },
   {
    "duration": 3,
    "start_time": "2021-11-16T11:10:05.069Z"
   },
   {
    "duration": 4,
    "start_time": "2021-11-16T11:10:13.376Z"
   },
   {
    "duration": 3,
    "start_time": "2021-11-16T11:10:14.434Z"
   },
   {
    "duration": 3,
    "start_time": "2021-11-16T11:10:22.853Z"
   },
   {
    "duration": 4,
    "start_time": "2021-11-16T11:27:29.279Z"
   },
   {
    "duration": 4,
    "start_time": "2021-11-16T11:29:08.919Z"
   },
   {
    "duration": 118,
    "start_time": "2021-11-16T11:29:46.703Z"
   },
   {
    "duration": 437,
    "start_time": "2021-11-16T11:36:02.181Z"
   },
   {
    "duration": 157,
    "start_time": "2021-11-16T11:36:14.388Z"
   },
   {
    "duration": 207,
    "start_time": "2021-11-16T11:47:15.898Z"
   },
   {
    "duration": 3,
    "start_time": "2021-11-16T11:53:52.092Z"
   },
   {
    "duration": 3,
    "start_time": "2021-11-16T11:53:52.236Z"
   },
   {
    "duration": 3,
    "start_time": "2021-11-16T11:59:12.005Z"
   },
   {
    "duration": 112,
    "start_time": "2021-11-16T12:00:33.446Z"
   },
   {
    "duration": 3,
    "start_time": "2021-11-16T12:02:14.453Z"
   },
   {
    "duration": 3,
    "start_time": "2021-11-16T12:02:39.512Z"
   },
   {
    "duration": 106,
    "start_time": "2021-11-16T12:03:03.460Z"
   },
   {
    "duration": 3,
    "start_time": "2021-11-17T20:37:21.139Z"
   },
   {
    "duration": 3,
    "start_time": "2021-11-17T20:37:22.229Z"
   },
   {
    "duration": 3,
    "start_time": "2021-11-17T20:38:38.806Z"
   },
   {
    "duration": 3,
    "start_time": "2021-11-17T20:38:41.958Z"
   },
   {
    "duration": 3,
    "start_time": "2021-11-17T20:43:46.551Z"
   },
   {
    "duration": 4,
    "start_time": "2021-11-17T20:58:21.835Z"
   },
   {
    "duration": 3,
    "start_time": "2021-11-17T20:59:21.872Z"
   },
   {
    "duration": 4,
    "start_time": "2021-11-17T20:59:45.352Z"
   },
   {
    "duration": 4,
    "start_time": "2021-11-17T20:59:49.646Z"
   },
   {
    "duration": 159,
    "start_time": "2021-11-17T21:02:26.949Z"
   },
   {
    "duration": 3,
    "start_time": "2021-11-17T21:03:53.461Z"
   },
   {
    "duration": 3,
    "start_time": "2021-11-17T21:03:53.694Z"
   },
   {
    "duration": 3,
    "start_time": "2021-11-17T21:05:28.145Z"
   },
   {
    "duration": 116,
    "start_time": "2021-11-17T21:05:57.787Z"
   },
   {
    "duration": 3,
    "start_time": "2021-11-17T21:06:37.993Z"
   },
   {
    "duration": 3,
    "start_time": "2021-11-17T21:06:38.261Z"
   },
   {
    "duration": 3,
    "start_time": "2021-11-17T21:11:54.358Z"
   },
   {
    "duration": 3,
    "start_time": "2021-11-17T21:12:43.846Z"
   },
   {
    "duration": 4,
    "start_time": "2021-11-17T21:13:08.773Z"
   },
   {
    "duration": 3,
    "start_time": "2021-11-17T21:14:44.441Z"
   },
   {
    "duration": 3,
    "start_time": "2021-11-17T21:15:42.059Z"
   },
   {
    "duration": 4,
    "start_time": "2021-11-17T21:15:51.995Z"
   },
   {
    "duration": 3,
    "start_time": "2021-11-17T21:15:53.923Z"
   },
   {
    "duration": 3,
    "start_time": "2021-11-17T21:15:55.282Z"
   },
   {
    "duration": 3,
    "start_time": "2021-11-17T21:16:28.492Z"
   },
   {
    "duration": 3,
    "start_time": "2021-11-17T21:16:32.603Z"
   },
   {
    "duration": 3,
    "start_time": "2021-11-17T21:17:06.941Z"
   },
   {
    "duration": 98,
    "start_time": "2021-11-17T21:18:05.733Z"
   },
   {
    "duration": 4,
    "start_time": "2021-11-17T21:21:35.255Z"
   },
   {
    "duration": 3,
    "start_time": "2021-11-17T21:21:37.804Z"
   },
   {
    "duration": 4,
    "start_time": "2021-11-17T21:23:06.071Z"
   },
   {
    "duration": 3,
    "start_time": "2021-11-17T21:23:24.799Z"
   },
   {
    "duration": 3,
    "start_time": "2021-11-17T21:23:32.591Z"
   },
   {
    "duration": 98,
    "start_time": "2021-11-17T21:28:31.559Z"
   },
   {
    "duration": 3,
    "start_time": "2021-11-17T21:28:45.448Z"
   },
   {
    "duration": 3,
    "start_time": "2021-11-17T21:29:17.303Z"
   },
   {
    "duration": 3,
    "start_time": "2021-11-17T21:29:29.617Z"
   },
   {
    "duration": 3,
    "start_time": "2021-11-17T21:29:32.681Z"
   },
   {
    "duration": 3,
    "start_time": "2021-11-17T21:36:11.474Z"
   },
   {
    "duration": 3,
    "start_time": "2021-11-17T21:36:14.791Z"
   },
   {
    "duration": 3,
    "start_time": "2021-11-17T21:36:53.943Z"
   },
   {
    "duration": 3,
    "start_time": "2021-11-17T21:36:56.165Z"
   },
   {
    "duration": 4,
    "start_time": "2021-11-17T21:37:16.590Z"
   },
   {
    "duration": 3,
    "start_time": "2021-11-17T21:37:22.702Z"
   },
   {
    "duration": 4,
    "start_time": "2021-11-17T21:38:03.479Z"
   },
   {
    "duration": 3,
    "start_time": "2021-11-17T21:38:08.601Z"
   },
   {
    "duration": 3,
    "start_time": "2021-11-17T21:38:12.928Z"
   },
   {
    "duration": 3,
    "start_time": "2021-11-17T21:38:48.896Z"
   },
   {
    "duration": 2,
    "start_time": "2021-11-17T21:38:49.171Z"
   },
   {
    "duration": 4,
    "start_time": "2021-11-17T21:39:57.889Z"
   },
   {
    "duration": 3,
    "start_time": "2021-11-17T21:39:58.057Z"
   },
   {
    "duration": 3,
    "start_time": "2021-11-17T21:41:20.108Z"
   },
   {
    "duration": 3,
    "start_time": "2021-11-17T21:41:20.629Z"
   },
   {
    "duration": 3,
    "start_time": "2021-11-17T21:42:49.136Z"
   },
   {
    "duration": 3,
    "start_time": "2021-11-17T21:43:15.137Z"
   },
   {
    "duration": 4,
    "start_time": "2021-11-17T21:43:16.766Z"
   },
   {
    "duration": 4,
    "start_time": "2021-11-17T21:43:31.711Z"
   },
   {
    "duration": 3,
    "start_time": "2021-11-17T21:43:36.312Z"
   },
   {
    "duration": 4,
    "start_time": "2021-11-17T21:45:08.825Z"
   },
   {
    "duration": 4,
    "start_time": "2021-11-17T21:45:10.119Z"
   },
   {
    "duration": 4,
    "start_time": "2021-11-17T21:45:13.748Z"
   },
   {
    "duration": 3,
    "start_time": "2021-11-17T21:45:22.219Z"
   },
   {
    "duration": 3,
    "start_time": "2021-11-17T21:45:33.412Z"
   },
   {
    "duration": 2,
    "start_time": "2021-11-17T21:46:01.885Z"
   },
   {
    "duration": 3,
    "start_time": "2021-11-17T21:46:03.628Z"
   },
   {
    "duration": 107,
    "start_time": "2021-11-17T21:47:32.512Z"
   },
   {
    "duration": 103,
    "start_time": "2021-11-17T21:50:36.243Z"
   },
   {
    "duration": 3,
    "start_time": "2021-11-18T06:28:31.440Z"
   },
   {
    "duration": 3,
    "start_time": "2021-11-18T06:29:00.168Z"
   },
   {
    "duration": 3,
    "start_time": "2021-11-18T06:31:27.008Z"
   },
   {
    "duration": 2,
    "start_time": "2021-11-18T06:35:34.288Z"
   },
   {
    "duration": 2,
    "start_time": "2021-11-18T06:38:04.527Z"
   },
   {
    "duration": 8,
    "start_time": "2024-11-07T16:05:17.885Z"
   },
   {
    "duration": 167,
    "start_time": "2024-11-07T16:05:21.858Z"
   },
   {
    "duration": 2641,
    "start_time": "2024-11-07T16:05:28.909Z"
   },
   {
    "duration": 94,
    "start_time": "2024-11-07T16:05:31.554Z"
   },
   {
    "duration": 210,
    "start_time": "2024-11-07T16:07:50.928Z"
   },
   {
    "duration": 170,
    "start_time": "2024-11-07T16:07:55.286Z"
   },
   {
    "duration": 34,
    "start_time": "2024-11-07T16:08:35.252Z"
   },
   {
    "duration": 26,
    "start_time": "2024-11-07T16:08:45.753Z"
   },
   {
    "duration": 27,
    "start_time": "2024-11-07T16:09:01.383Z"
   },
   {
    "duration": 28,
    "start_time": "2024-11-07T16:09:12.979Z"
   },
   {
    "duration": 27,
    "start_time": "2024-11-07T16:09:38.201Z"
   },
   {
    "duration": 18,
    "start_time": "2024-11-07T16:09:56.691Z"
   },
   {
    "duration": 27,
    "start_time": "2024-11-07T16:10:13.045Z"
   },
   {
    "duration": 19,
    "start_time": "2024-11-07T16:10:58.189Z"
   },
   {
    "duration": 23,
    "start_time": "2024-11-07T16:29:45.006Z"
   },
   {
    "duration": 2,
    "start_time": "2024-11-07T16:30:52.533Z"
   },
   {
    "duration": 4,
    "start_time": "2024-11-07T16:30:59.783Z"
   },
   {
    "duration": 15,
    "start_time": "2024-11-07T16:45:38.855Z"
   },
   {
    "duration": 343,
    "start_time": "2024-11-07T16:47:02.025Z"
   },
   {
    "duration": 8,
    "start_time": "2024-11-07T16:47:58.272Z"
   },
   {
    "duration": 14,
    "start_time": "2024-11-07T16:49:42.068Z"
   },
   {
    "duration": 5,
    "start_time": "2024-11-07T16:49:56.682Z"
   },
   {
    "duration": 5,
    "start_time": "2024-11-07T16:53:10.091Z"
   },
   {
    "duration": 6,
    "start_time": "2024-11-07T16:53:48.813Z"
   },
   {
    "duration": 9,
    "start_time": "2024-11-07T16:53:56.851Z"
   },
   {
    "duration": 4,
    "start_time": "2024-11-07T16:57:11.580Z"
   },
   {
    "duration": 5,
    "start_time": "2024-11-07T17:00:48.124Z"
   },
   {
    "duration": 6,
    "start_time": "2024-11-07T17:03:07.532Z"
   },
   {
    "duration": 14,
    "start_time": "2024-11-07T17:03:24.024Z"
   },
   {
    "duration": 24,
    "start_time": "2024-11-07T17:03:37.795Z"
   },
   {
    "duration": 7,
    "start_time": "2024-11-07T17:04:11.379Z"
   },
   {
    "duration": 8,
    "start_time": "2024-11-07T17:05:10.925Z"
   },
   {
    "duration": 487,
    "start_time": "2024-11-07T17:06:10.254Z"
   },
   {
    "duration": 7,
    "start_time": "2024-11-07T17:06:16.172Z"
   },
   {
    "duration": 7,
    "start_time": "2024-11-07T17:07:29.794Z"
   },
   {
    "duration": 4,
    "start_time": "2024-11-07T17:07:38.586Z"
   },
   {
    "duration": 27,
    "start_time": "2024-11-07T17:09:47.108Z"
   },
   {
    "duration": 7,
    "start_time": "2024-11-07T17:09:57.475Z"
   },
   {
    "duration": 4,
    "start_time": "2024-11-07T17:10:05.460Z"
   },
   {
    "duration": 9,
    "start_time": "2024-11-07T17:10:13.317Z"
   },
   {
    "duration": 7,
    "start_time": "2024-11-07T17:24:30.951Z"
   },
   {
    "duration": 30,
    "start_time": "2024-11-07T17:26:01.666Z"
   },
   {
    "duration": 33,
    "start_time": "2024-11-07T17:26:09.683Z"
   },
   {
    "duration": 32,
    "start_time": "2024-11-07T17:27:59.700Z"
   },
   {
    "duration": 50,
    "start_time": "2024-11-07T17:28:53.008Z"
   },
   {
    "duration": 43,
    "start_time": "2024-11-07T17:29:02.328Z"
   },
   {
    "duration": 47,
    "start_time": "2024-11-07T19:20:59.791Z"
   },
   {
    "duration": 43,
    "start_time": "2024-11-07T19:21:34.968Z"
   },
   {
    "duration": 57,
    "start_time": "2024-11-07T19:21:50.326Z"
   },
   {
    "duration": 47,
    "start_time": "2024-11-07T19:21:58.540Z"
   },
   {
    "duration": 129,
    "start_time": "2024-11-07T19:22:06.720Z"
   },
   {
    "duration": 45,
    "start_time": "2024-11-07T19:23:30.414Z"
   },
   {
    "duration": 43,
    "start_time": "2024-11-07T19:23:47.426Z"
   },
   {
    "duration": 48,
    "start_time": "2024-11-07T19:24:53.785Z"
   },
   {
    "duration": 48,
    "start_time": "2024-11-07T19:25:00.202Z"
   },
   {
    "duration": 51,
    "start_time": "2024-11-07T19:27:45.982Z"
   },
   {
    "duration": 48,
    "start_time": "2024-11-07T19:28:27.595Z"
   },
   {
    "duration": 46,
    "start_time": "2024-11-07T19:28:41.400Z"
   },
   {
    "duration": 17,
    "start_time": "2024-11-07T19:29:44.370Z"
   },
   {
    "duration": 6,
    "start_time": "2024-11-07T19:30:01.139Z"
   },
   {
    "duration": 10,
    "start_time": "2024-11-07T19:30:48.655Z"
   },
   {
    "duration": 20,
    "start_time": "2024-11-07T19:31:07.246Z"
   },
   {
    "duration": 19,
    "start_time": "2024-11-07T19:31:25.489Z"
   },
   {
    "duration": 22,
    "start_time": "2024-11-07T19:47:26.557Z"
   },
   {
    "duration": 24,
    "start_time": "2024-11-07T19:47:31.083Z"
   },
   {
    "duration": 6,
    "start_time": "2024-11-07T19:47:47.358Z"
   },
   {
    "duration": 8,
    "start_time": "2024-11-07T19:48:07.670Z"
   },
   {
    "duration": 13,
    "start_time": "2024-11-07T19:57:30.472Z"
   },
   {
    "duration": 22,
    "start_time": "2024-11-07T19:58:01.839Z"
   },
   {
    "duration": 25,
    "start_time": "2024-11-07T19:58:08.210Z"
   },
   {
    "duration": 13,
    "start_time": "2024-11-07T19:58:37.927Z"
   },
   {
    "duration": 14,
    "start_time": "2024-11-07T19:59:26.853Z"
   },
   {
    "duration": 16,
    "start_time": "2024-11-07T19:59:38.503Z"
   },
   {
    "duration": 5,
    "start_time": "2024-11-07T20:10:27.890Z"
   },
   {
    "duration": 10,
    "start_time": "2024-11-07T20:13:05.825Z"
   },
   {
    "duration": 96,
    "start_time": "2024-11-07T20:17:50.609Z"
   },
   {
    "duration": 11,
    "start_time": "2024-11-07T20:17:58.017Z"
   },
   {
    "duration": 12,
    "start_time": "2024-11-07T20:18:03.845Z"
   },
   {
    "duration": 6,
    "start_time": "2024-11-07T20:18:16.083Z"
   },
   {
    "duration": 5,
    "start_time": "2024-11-07T20:26:32.674Z"
   },
   {
    "duration": 4,
    "start_time": "2024-11-07T20:26:49.900Z"
   },
   {
    "duration": 18,
    "start_time": "2024-11-07T20:27:26.375Z"
   },
   {
    "duration": 23,
    "start_time": "2024-11-07T20:27:41.622Z"
   },
   {
    "duration": 20,
    "start_time": "2024-11-07T20:27:52.557Z"
   },
   {
    "duration": 5,
    "start_time": "2024-11-07T20:28:09.035Z"
   },
   {
    "duration": 19,
    "start_time": "2024-11-07T20:28:15.331Z"
   },
   {
    "duration": 7,
    "start_time": "2024-11-07T20:29:09.419Z"
   },
   {
    "duration": 18,
    "start_time": "2024-11-07T20:30:57.409Z"
   },
   {
    "duration": 15,
    "start_time": "2024-11-07T20:31:19.733Z"
   },
   {
    "duration": 5,
    "start_time": "2024-11-07T20:34:30.644Z"
   },
   {
    "duration": 8,
    "start_time": "2024-11-07T20:34:36.789Z"
   },
   {
    "duration": 8,
    "start_time": "2024-11-07T20:34:41.276Z"
   },
   {
    "duration": 15,
    "start_time": "2024-11-07T20:37:47.089Z"
   },
   {
    "duration": 17,
    "start_time": "2024-11-07T20:37:58.860Z"
   },
   {
    "duration": 164,
    "start_time": "2024-11-08T15:21:01.084Z"
   },
   {
    "duration": 2451,
    "start_time": "2024-11-08T15:21:22.508Z"
   },
   {
    "duration": 216,
    "start_time": "2024-11-08T15:21:24.961Z"
   },
   {
    "duration": 30,
    "start_time": "2024-11-08T15:21:25.179Z"
   },
   {
    "duration": 24,
    "start_time": "2024-11-08T15:21:25.211Z"
   },
   {
    "duration": 18,
    "start_time": "2024-11-08T15:21:25.237Z"
   },
   {
    "duration": 23,
    "start_time": "2024-11-08T15:21:25.256Z"
   },
   {
    "duration": 15,
    "start_time": "2024-11-08T15:21:25.282Z"
   },
   {
    "duration": 47,
    "start_time": "2024-11-08T15:21:25.299Z"
   },
   {
    "duration": 5,
    "start_time": "2024-11-08T15:21:25.348Z"
   },
   {
    "duration": 7,
    "start_time": "2024-11-08T15:21:25.355Z"
   },
   {
    "duration": 13,
    "start_time": "2024-11-08T15:21:25.363Z"
   },
   {
    "duration": 5,
    "start_time": "2024-11-08T15:21:25.378Z"
   },
   {
    "duration": 43,
    "start_time": "2024-11-08T15:21:25.385Z"
   },
   {
    "duration": 9,
    "start_time": "2024-11-08T15:21:25.432Z"
   },
   {
    "duration": 25,
    "start_time": "2024-11-08T15:21:25.443Z"
   },
   {
    "duration": 8,
    "start_time": "2024-11-08T15:21:25.469Z"
   },
   {
    "duration": 85,
    "start_time": "2024-11-08T15:21:25.478Z"
   },
   {
    "duration": 16,
    "start_time": "2024-11-08T15:21:25.565Z"
   },
   {
    "duration": 5,
    "start_time": "2024-11-08T15:21:25.582Z"
   },
   {
    "duration": 39,
    "start_time": "2024-11-08T15:21:25.589Z"
   },
   {
    "duration": 24,
    "start_time": "2024-11-08T15:21:25.630Z"
   },
   {
    "duration": 6,
    "start_time": "2024-11-08T15:21:25.656Z"
   },
   {
    "duration": 19,
    "start_time": "2024-11-08T15:21:25.664Z"
   },
   {
    "duration": 5,
    "start_time": "2024-11-08T15:21:25.684Z"
   },
   {
    "duration": 53,
    "start_time": "2024-11-08T15:21:25.690Z"
   },
   {
    "duration": 13,
    "start_time": "2024-11-08T15:21:25.745Z"
   },
   {
    "duration": 21,
    "start_time": "2024-11-08T15:21:25.760Z"
   },
   {
    "duration": 8,
    "start_time": "2024-11-08T15:21:25.782Z"
   },
   {
    "duration": 33,
    "start_time": "2024-11-08T15:21:25.791Z"
   },
   {
    "duration": 2,
    "start_time": "2024-11-08T15:21:25.826Z"
   },
   {
    "duration": 2,
    "start_time": "2024-11-08T15:21:25.830Z"
   },
   {
    "duration": 2,
    "start_time": "2024-11-08T15:21:25.834Z"
   },
   {
    "duration": 3,
    "start_time": "2024-11-08T15:21:25.838Z"
   },
   {
    "duration": 2,
    "start_time": "2024-11-08T15:21:25.843Z"
   },
   {
    "duration": 3,
    "start_time": "2024-11-08T15:21:25.847Z"
   },
   {
    "duration": 2,
    "start_time": "2024-11-08T15:21:25.852Z"
   },
   {
    "duration": 2,
    "start_time": "2024-11-08T15:21:25.856Z"
   },
   {
    "duration": 3,
    "start_time": "2024-11-08T15:21:25.860Z"
   },
   {
    "duration": 3,
    "start_time": "2024-11-08T15:21:25.864Z"
   },
   {
    "duration": 7,
    "start_time": "2024-11-08T15:21:42.157Z"
   },
   {
    "duration": 10,
    "start_time": "2024-11-08T15:21:53.754Z"
   },
   {
    "duration": 14,
    "start_time": "2024-11-08T15:21:58.203Z"
   },
   {
    "duration": 138,
    "start_time": "2024-11-08T15:24:32.820Z"
   },
   {
    "duration": 21,
    "start_time": "2024-11-08T15:24:49.967Z"
   },
   {
    "duration": 782,
    "start_time": "2024-11-08T15:24:55.829Z"
   },
   {
    "duration": 156,
    "start_time": "2024-11-08T15:24:56.613Z"
   },
   {
    "duration": 29,
    "start_time": "2024-11-08T15:24:56.771Z"
   },
   {
    "duration": 33,
    "start_time": "2024-11-08T15:24:56.802Z"
   },
   {
    "duration": 17,
    "start_time": "2024-11-08T15:24:56.836Z"
   },
   {
    "duration": 22,
    "start_time": "2024-11-08T15:24:56.854Z"
   },
   {
    "duration": 16,
    "start_time": "2024-11-08T15:24:56.877Z"
   },
   {
    "duration": 47,
    "start_time": "2024-11-08T15:24:56.894Z"
   },
   {
    "duration": 5,
    "start_time": "2024-11-08T15:24:56.942Z"
   },
   {
    "duration": 8,
    "start_time": "2024-11-08T15:24:56.951Z"
   },
   {
    "duration": 13,
    "start_time": "2024-11-08T15:24:56.960Z"
   },
   {
    "duration": 5,
    "start_time": "2024-11-08T15:24:56.975Z"
   },
   {
    "duration": 44,
    "start_time": "2024-11-08T15:24:56.982Z"
   },
   {
    "duration": 10,
    "start_time": "2024-11-08T15:24:57.028Z"
   },
   {
    "duration": 25,
    "start_time": "2024-11-08T15:24:57.039Z"
   },
   {
    "duration": 7,
    "start_time": "2024-11-08T15:24:57.066Z"
   },
   {
    "duration": 84,
    "start_time": "2024-11-08T15:24:57.074Z"
   },
   {
    "duration": 17,
    "start_time": "2024-11-08T15:24:57.160Z"
   },
   {
    "duration": 6,
    "start_time": "2024-11-08T15:24:57.178Z"
   },
   {
    "duration": 39,
    "start_time": "2024-11-08T15:24:57.185Z"
   },
   {
    "duration": 23,
    "start_time": "2024-11-08T15:24:57.226Z"
   },
   {
    "duration": 6,
    "start_time": "2024-11-08T15:24:57.251Z"
   },
   {
    "duration": 19,
    "start_time": "2024-11-08T15:24:57.258Z"
   },
   {
    "duration": 5,
    "start_time": "2024-11-08T15:24:57.279Z"
   },
   {
    "duration": 54,
    "start_time": "2024-11-08T15:24:57.286Z"
   },
   {
    "duration": 12,
    "start_time": "2024-11-08T15:24:57.342Z"
   },
   {
    "duration": 15,
    "start_time": "2024-11-08T15:24:57.356Z"
   },
   {
    "duration": 170,
    "start_time": "2024-11-08T15:24:57.374Z"
   },
   {
    "duration": 0,
    "start_time": "2024-11-08T15:24:57.546Z"
   },
   {
    "duration": 0,
    "start_time": "2024-11-08T15:24:57.547Z"
   },
   {
    "duration": 0,
    "start_time": "2024-11-08T15:24:57.548Z"
   },
   {
    "duration": 0,
    "start_time": "2024-11-08T15:24:57.550Z"
   },
   {
    "duration": 0,
    "start_time": "2024-11-08T15:24:57.551Z"
   },
   {
    "duration": 0,
    "start_time": "2024-11-08T15:24:57.552Z"
   },
   {
    "duration": 0,
    "start_time": "2024-11-08T15:24:57.553Z"
   },
   {
    "duration": 0,
    "start_time": "2024-11-08T15:24:57.554Z"
   },
   {
    "duration": 0,
    "start_time": "2024-11-08T15:24:57.555Z"
   },
   {
    "duration": 0,
    "start_time": "2024-11-08T15:24:57.557Z"
   },
   {
    "duration": 0,
    "start_time": "2024-11-08T15:24:57.558Z"
   },
   {
    "duration": 5,
    "start_time": "2024-11-08T15:25:20.101Z"
   },
   {
    "duration": 4,
    "start_time": "2024-11-08T15:25:24.774Z"
   },
   {
    "duration": 11,
    "start_time": "2024-11-08T15:25:28.185Z"
   },
   {
    "duration": 19,
    "start_time": "2024-11-08T15:29:32.387Z"
   },
   {
    "duration": 15,
    "start_time": "2024-11-08T15:29:38.937Z"
   },
   {
    "duration": 17,
    "start_time": "2024-11-08T15:29:47.484Z"
   },
   {
    "duration": 170,
    "start_time": "2024-11-08T15:30:54.320Z"
   },
   {
    "duration": 31,
    "start_time": "2024-11-08T15:31:26.593Z"
   },
   {
    "duration": 23,
    "start_time": "2024-11-08T15:31:36.499Z"
   },
   {
    "duration": 19,
    "start_time": "2024-11-08T15:32:13.311Z"
   },
   {
    "duration": 6,
    "start_time": "2024-11-08T15:39:31.991Z"
   },
   {
    "duration": 8,
    "start_time": "2024-11-08T15:39:46.569Z"
   },
   {
    "duration": 13,
    "start_time": "2024-11-08T15:41:52.958Z"
   },
   {
    "duration": 18,
    "start_time": "2024-11-08T15:43:16.939Z"
   },
   {
    "duration": 28,
    "start_time": "2024-11-08T15:45:00.808Z"
   },
   {
    "duration": 19,
    "start_time": "2024-11-08T15:45:05.869Z"
   },
   {
    "duration": 24,
    "start_time": "2024-11-08T15:45:12.543Z"
   },
   {
    "duration": 16,
    "start_time": "2024-11-08T15:45:44.994Z"
   },
   {
    "duration": 16,
    "start_time": "2024-11-08T15:45:51.986Z"
   },
   {
    "duration": 15,
    "start_time": "2024-11-08T15:47:06.233Z"
   },
   {
    "duration": 5,
    "start_time": "2024-11-08T15:47:20.861Z"
   },
   {
    "duration": 18,
    "start_time": "2024-11-08T16:05:23.644Z"
   },
   {
    "duration": 444,
    "start_time": "2024-11-08T16:12:07.700Z"
   },
   {
    "duration": 21,
    "start_time": "2024-11-08T16:12:25.716Z"
   },
   {
    "duration": 5,
    "start_time": "2024-11-08T16:13:21.246Z"
   },
   {
    "duration": 20,
    "start_time": "2024-11-08T16:13:47.359Z"
   },
   {
    "duration": 14,
    "start_time": "2024-11-08T16:14:02.869Z"
   },
   {
    "duration": 13,
    "start_time": "2024-11-08T16:14:53.145Z"
   },
   {
    "duration": 49,
    "start_time": "2024-11-08T16:24:01.245Z"
   },
   {
    "duration": 15,
    "start_time": "2024-11-08T16:26:16.883Z"
   },
   {
    "duration": 15,
    "start_time": "2024-11-08T16:28:44.144Z"
   },
   {
    "duration": 12,
    "start_time": "2024-11-08T16:28:49.592Z"
   },
   {
    "duration": 15,
    "start_time": "2024-11-08T16:33:08.347Z"
   },
   {
    "duration": 19,
    "start_time": "2024-11-08T16:34:39.598Z"
   },
   {
    "duration": 6,
    "start_time": "2024-11-08T16:40:03.184Z"
   },
   {
    "duration": 6,
    "start_time": "2024-11-08T16:42:24.408Z"
   },
   {
    "duration": 10,
    "start_time": "2024-11-08T17:21:06.674Z"
   },
   {
    "duration": 12,
    "start_time": "2024-11-08T17:21:29.591Z"
   },
   {
    "duration": 10,
    "start_time": "2024-11-08T17:21:39.470Z"
   },
   {
    "duration": 23,
    "start_time": "2024-11-08T17:31:10.035Z"
   },
   {
    "duration": 15,
    "start_time": "2024-11-08T17:32:00.142Z"
   },
   {
    "duration": 14,
    "start_time": "2024-11-08T17:32:06.129Z"
   },
   {
    "duration": 206,
    "start_time": "2024-11-08T17:34:35.643Z"
   },
   {
    "duration": 136,
    "start_time": "2024-11-08T17:38:42.776Z"
   },
   {
    "duration": 169,
    "start_time": "2024-11-08T17:38:54.860Z"
   },
   {
    "duration": 218,
    "start_time": "2024-11-08T17:40:53.492Z"
   },
   {
    "duration": 158,
    "start_time": "2024-11-08T17:41:00.520Z"
   },
   {
    "duration": 7,
    "start_time": "2024-11-08T17:44:27.618Z"
   },
   {
    "duration": 171,
    "start_time": "2024-11-08T17:44:29.552Z"
   },
   {
    "duration": 181,
    "start_time": "2024-11-08T17:45:55.077Z"
   },
   {
    "duration": 3,
    "start_time": "2024-11-08T17:52:49.287Z"
   },
   {
    "duration": 17,
    "start_time": "2024-11-08T17:54:01.679Z"
   },
   {
    "duration": 3,
    "start_time": "2024-11-08T17:54:15.183Z"
   },
   {
    "duration": 44,
    "start_time": "2024-11-08T17:56:21.334Z"
   },
   {
    "duration": 6,
    "start_time": "2024-11-08T17:56:29.058Z"
   },
   {
    "duration": 4,
    "start_time": "2024-11-08T17:57:49.061Z"
   },
   {
    "duration": 6,
    "start_time": "2024-11-08T17:58:07.435Z"
   },
   {
    "duration": 5,
    "start_time": "2024-11-08T17:58:18.223Z"
   },
   {
    "duration": 23,
    "start_time": "2024-11-08T18:01:27.525Z"
   },
   {
    "duration": 23,
    "start_time": "2024-11-08T18:01:34.154Z"
   },
   {
    "duration": 5,
    "start_time": "2024-11-08T18:01:46.887Z"
   },
   {
    "duration": 5,
    "start_time": "2024-11-08T18:05:20.326Z"
   },
   {
    "duration": 25,
    "start_time": "2024-11-08T18:05:26.425Z"
   },
   {
    "duration": 5,
    "start_time": "2024-11-08T18:05:29.336Z"
   },
   {
    "duration": 111,
    "start_time": "2024-11-08T18:08:08.776Z"
   },
   {
    "duration": 15,
    "start_time": "2024-11-08T18:14:44.663Z"
   },
   {
    "duration": 3,
    "start_time": "2024-11-08T18:14:58.492Z"
   },
   {
    "duration": 14,
    "start_time": "2024-11-08T18:15:50.910Z"
   },
   {
    "duration": 4,
    "start_time": "2024-11-08T18:24:08.299Z"
   },
   {
    "duration": 118,
    "start_time": "2024-11-08T18:24:08.482Z"
   },
   {
    "duration": 4,
    "start_time": "2024-11-08T18:24:19.852Z"
   },
   {
    "duration": 2,
    "start_time": "2024-11-08T18:25:10.060Z"
   },
   {
    "duration": 12,
    "start_time": "2024-11-08T18:33:06.531Z"
   },
   {
    "duration": 11,
    "start_time": "2024-11-08T18:33:15.032Z"
   },
   {
    "duration": 3,
    "start_time": "2024-11-08T18:33:56.160Z"
   },
   {
    "duration": 2,
    "start_time": "2024-11-08T18:33:59.088Z"
   },
   {
    "duration": 2599,
    "start_time": "2024-11-11T14:31:29.053Z"
   },
   {
    "duration": 236,
    "start_time": "2024-11-11T14:31:31.655Z"
   },
   {
    "duration": 31,
    "start_time": "2024-11-11T14:31:31.893Z"
   },
   {
    "duration": 24,
    "start_time": "2024-11-11T14:31:31.927Z"
   },
   {
    "duration": 17,
    "start_time": "2024-11-11T14:31:31.952Z"
   },
   {
    "duration": 23,
    "start_time": "2024-11-11T14:31:31.970Z"
   },
   {
    "duration": 33,
    "start_time": "2024-11-11T14:31:31.994Z"
   },
   {
    "duration": 21,
    "start_time": "2024-11-11T14:31:32.029Z"
   },
   {
    "duration": 5,
    "start_time": "2024-11-11T14:31:32.052Z"
   },
   {
    "duration": 7,
    "start_time": "2024-11-11T14:31:32.061Z"
   },
   {
    "duration": 43,
    "start_time": "2024-11-11T14:31:32.069Z"
   },
   {
    "duration": 6,
    "start_time": "2024-11-11T14:31:32.113Z"
   },
   {
    "duration": 7,
    "start_time": "2024-11-11T14:31:32.121Z"
   },
   {
    "duration": 8,
    "start_time": "2024-11-11T14:31:32.130Z"
   },
   {
    "duration": 24,
    "start_time": "2024-11-11T14:31:32.141Z"
   },
   {
    "duration": 6,
    "start_time": "2024-11-11T14:31:32.167Z"
   },
   {
    "duration": 57,
    "start_time": "2024-11-11T14:31:32.212Z"
   },
   {
    "duration": 15,
    "start_time": "2024-11-11T14:31:32.272Z"
   },
   {
    "duration": 27,
    "start_time": "2024-11-11T14:31:32.289Z"
   },
   {
    "duration": 18,
    "start_time": "2024-11-11T14:31:32.318Z"
   },
   {
    "duration": 22,
    "start_time": "2024-11-11T14:31:32.338Z"
   },
   {
    "duration": 7,
    "start_time": "2024-11-11T14:31:32.361Z"
   },
   {
    "duration": 49,
    "start_time": "2024-11-11T14:31:32.369Z"
   },
   {
    "duration": 4,
    "start_time": "2024-11-11T14:31:32.420Z"
   },
   {
    "duration": 21,
    "start_time": "2024-11-11T14:31:32.426Z"
   },
   {
    "duration": 13,
    "start_time": "2024-11-11T14:31:32.449Z"
   },
   {
    "duration": 15,
    "start_time": "2024-11-11T14:31:32.464Z"
   },
   {
    "duration": 17,
    "start_time": "2024-11-11T14:31:32.512Z"
   },
   {
    "duration": 20,
    "start_time": "2024-11-11T14:31:32.530Z"
   },
   {
    "duration": 248,
    "start_time": "2024-11-11T14:31:32.551Z"
   },
   {
    "duration": 0,
    "start_time": "2024-11-11T14:31:32.801Z"
   },
   {
    "duration": 0,
    "start_time": "2024-11-11T14:31:32.802Z"
   },
   {
    "duration": 0,
    "start_time": "2024-11-11T14:31:32.803Z"
   },
   {
    "duration": 0,
    "start_time": "2024-11-11T14:31:32.811Z"
   },
   {
    "duration": 0,
    "start_time": "2024-11-11T14:31:32.812Z"
   },
   {
    "duration": 0,
    "start_time": "2024-11-11T14:31:32.813Z"
   },
   {
    "duration": 0,
    "start_time": "2024-11-11T14:31:32.815Z"
   },
   {
    "duration": 0,
    "start_time": "2024-11-11T14:31:32.816Z"
   },
   {
    "duration": 0,
    "start_time": "2024-11-11T14:31:32.817Z"
   },
   {
    "duration": 18,
    "start_time": "2024-11-11T14:32:48.081Z"
   },
   {
    "duration": 21,
    "start_time": "2024-11-11T14:33:03.576Z"
   },
   {
    "duration": 14,
    "start_time": "2024-11-11T14:33:51.545Z"
   },
   {
    "duration": 20,
    "start_time": "2024-11-11T14:33:56.577Z"
   },
   {
    "duration": 12,
    "start_time": "2024-11-11T14:34:14.606Z"
   },
   {
    "duration": 12,
    "start_time": "2024-11-11T14:40:23.776Z"
   },
   {
    "duration": 202,
    "start_time": "2024-11-11T14:40:45.665Z"
   },
   {
    "duration": 7,
    "start_time": "2024-11-11T14:42:58.903Z"
   },
   {
    "duration": 6,
    "start_time": "2024-11-11T14:44:00.190Z"
   },
   {
    "duration": 257,
    "start_time": "2024-11-11T14:44:11.531Z"
   },
   {
    "duration": 7,
    "start_time": "2024-11-11T14:52:54.503Z"
   },
   {
    "duration": 188,
    "start_time": "2024-11-11T14:58:40.827Z"
   },
   {
    "duration": 7,
    "start_time": "2024-11-11T14:58:52.807Z"
   },
   {
    "duration": 115,
    "start_time": "2024-11-11T14:59:04.566Z"
   },
   {
    "duration": 137,
    "start_time": "2024-11-11T15:02:15.442Z"
   },
   {
    "duration": 126,
    "start_time": "2024-11-11T15:02:19.713Z"
   },
   {
    "duration": 15,
    "start_time": "2024-11-11T15:04:56.535Z"
   },
   {
    "duration": 16,
    "start_time": "2024-11-11T15:05:05.420Z"
   },
   {
    "duration": 12,
    "start_time": "2024-11-11T15:05:13.283Z"
   },
   {
    "duration": 43,
    "start_time": "2024-11-11T15:06:34.614Z"
   },
   {
    "duration": 9,
    "start_time": "2024-11-11T15:07:33.340Z"
   },
   {
    "duration": 12,
    "start_time": "2024-11-11T15:07:44.226Z"
   },
   {
    "duration": 19,
    "start_time": "2024-11-11T15:10:03.899Z"
   },
   {
    "duration": 19,
    "start_time": "2024-11-11T15:10:10.314Z"
   },
   {
    "duration": 10,
    "start_time": "2024-11-11T15:10:15.263Z"
   },
   {
    "duration": 9,
    "start_time": "2024-11-11T15:11:08.053Z"
   },
   {
    "duration": 6,
    "start_time": "2024-11-11T15:12:15.623Z"
   },
   {
    "duration": 8,
    "start_time": "2024-11-11T15:12:24.160Z"
   },
   {
    "duration": 6,
    "start_time": "2024-11-11T15:14:38.176Z"
   },
   {
    "duration": 8,
    "start_time": "2024-11-11T15:14:44.145Z"
   },
   {
    "duration": 6,
    "start_time": "2024-11-11T15:16:10.869Z"
   },
   {
    "duration": 5,
    "start_time": "2024-11-11T15:22:50.682Z"
   },
   {
    "duration": 6,
    "start_time": "2024-11-11T15:22:58.226Z"
   },
   {
    "duration": 16,
    "start_time": "2024-11-11T15:25:00.039Z"
   },
   {
    "duration": 15,
    "start_time": "2024-11-11T15:27:26.484Z"
   },
   {
    "duration": 14,
    "start_time": "2024-11-11T15:27:32.798Z"
   },
   {
    "duration": 43,
    "start_time": "2024-11-11T15:40:25.741Z"
   },
   {
    "duration": 6,
    "start_time": "2024-11-11T15:40:57.629Z"
   },
   {
    "duration": 9,
    "start_time": "2024-11-11T15:41:07.015Z"
   },
   {
    "duration": 4,
    "start_time": "2024-11-11T15:41:27.640Z"
   },
   {
    "duration": 10,
    "start_time": "2024-11-11T15:41:32.315Z"
   },
   {
    "duration": 6,
    "start_time": "2024-11-11T15:44:54.198Z"
   },
   {
    "duration": 499,
    "start_time": "2024-11-11T15:51:44.636Z"
   },
   {
    "duration": 194,
    "start_time": "2024-11-11T15:52:34.133Z"
   },
   {
    "duration": 6,
    "start_time": "2024-11-11T15:53:05.558Z"
   },
   {
    "duration": 16,
    "start_time": "2024-11-11T15:53:11.084Z"
   },
   {
    "duration": 201,
    "start_time": "2024-11-11T15:53:14.359Z"
   },
   {
    "duration": 6,
    "start_time": "2024-11-11T15:59:48.917Z"
   },
   {
    "duration": 8,
    "start_time": "2024-11-11T15:59:51.893Z"
   },
   {
    "duration": 7,
    "start_time": "2024-11-11T16:00:41.421Z"
   },
   {
    "duration": 8,
    "start_time": "2024-11-11T16:00:55.417Z"
   },
   {
    "duration": 12,
    "start_time": "2024-11-11T16:01:40.632Z"
   },
   {
    "duration": 11,
    "start_time": "2024-11-11T16:01:52.535Z"
   },
   {
    "duration": 942,
    "start_time": "2024-11-11T16:02:41.234Z"
   },
   {
    "duration": 163,
    "start_time": "2024-11-11T16:02:42.178Z"
   },
   {
    "duration": 31,
    "start_time": "2024-11-11T16:02:42.343Z"
   },
   {
    "duration": 24,
    "start_time": "2024-11-11T16:02:42.376Z"
   },
   {
    "duration": 26,
    "start_time": "2024-11-11T16:02:42.402Z"
   },
   {
    "duration": 24,
    "start_time": "2024-11-11T16:02:42.430Z"
   },
   {
    "duration": 17,
    "start_time": "2024-11-11T16:02:42.457Z"
   },
   {
    "duration": 45,
    "start_time": "2024-11-11T16:02:42.477Z"
   },
   {
    "duration": 4,
    "start_time": "2024-11-11T16:02:42.525Z"
   },
   {
    "duration": 9,
    "start_time": "2024-11-11T16:02:42.532Z"
   },
   {
    "duration": 17,
    "start_time": "2024-11-11T16:02:42.543Z"
   },
   {
    "duration": 6,
    "start_time": "2024-11-11T16:02:42.561Z"
   },
   {
    "duration": 7,
    "start_time": "2024-11-11T16:02:42.569Z"
   },
   {
    "duration": 38,
    "start_time": "2024-11-11T16:02:42.578Z"
   },
   {
    "duration": 29,
    "start_time": "2024-11-11T16:02:42.618Z"
   },
   {
    "duration": 6,
    "start_time": "2024-11-11T16:02:42.649Z"
   },
   {
    "duration": 86,
    "start_time": "2024-11-11T16:02:42.657Z"
   },
   {
    "duration": 19,
    "start_time": "2024-11-11T16:02:42.745Z"
   },
   {
    "duration": 6,
    "start_time": "2024-11-11T16:02:42.765Z"
   },
   {
    "duration": 45,
    "start_time": "2024-11-11T16:02:42.772Z"
   },
   {
    "duration": 23,
    "start_time": "2024-11-11T16:02:42.819Z"
   },
   {
    "duration": 8,
    "start_time": "2024-11-11T16:02:42.844Z"
   },
   {
    "duration": 28,
    "start_time": "2024-11-11T16:02:42.853Z"
   },
   {
    "duration": 29,
    "start_time": "2024-11-11T16:02:42.882Z"
   },
   {
    "duration": 21,
    "start_time": "2024-11-11T16:02:42.914Z"
   },
   {
    "duration": 14,
    "start_time": "2024-11-11T16:02:42.937Z"
   },
   {
    "duration": 17,
    "start_time": "2024-11-11T16:02:42.953Z"
   },
   {
    "duration": 47,
    "start_time": "2024-11-11T16:02:42.975Z"
   },
   {
    "duration": 22,
    "start_time": "2024-11-11T16:02:43.023Z"
   },
   {
    "duration": 16,
    "start_time": "2024-11-11T16:02:43.047Z"
   },
   {
    "duration": 51,
    "start_time": "2024-11-11T16:02:43.064Z"
   },
   {
    "duration": 233,
    "start_time": "2024-11-11T16:02:43.117Z"
   },
   {
    "duration": 193,
    "start_time": "2024-11-11T16:02:43.352Z"
   },
   {
    "duration": 8,
    "start_time": "2024-11-11T16:02:43.547Z"
   },
   {
    "duration": 198,
    "start_time": "2024-11-11T16:02:43.557Z"
   },
   {
    "duration": 13,
    "start_time": "2024-11-11T16:02:43.756Z"
   },
   {
    "duration": 7,
    "start_time": "2024-11-11T16:02:43.771Z"
   },
   {
    "duration": 35,
    "start_time": "2024-11-11T16:02:43.781Z"
   },
   {
    "duration": 8,
    "start_time": "2024-11-11T16:02:43.818Z"
   },
   {
    "duration": 6,
    "start_time": "2024-11-11T16:02:43.827Z"
   },
   {
    "duration": 6,
    "start_time": "2024-11-11T16:02:43.835Z"
   },
   {
    "duration": 15,
    "start_time": "2024-11-11T16:02:43.842Z"
   },
   {
    "duration": 15,
    "start_time": "2024-11-11T16:02:43.859Z"
   },
   {
    "duration": 44,
    "start_time": "2024-11-11T16:02:43.875Z"
   },
   {
    "duration": 11,
    "start_time": "2024-11-11T16:02:43.920Z"
   },
   {
    "duration": 2,
    "start_time": "2024-11-11T16:02:43.933Z"
   },
   {
    "duration": 706,
    "start_time": "2024-11-11T16:05:49.176Z"
   },
   {
    "duration": 22,
    "start_time": "2024-11-11T16:06:15.199Z"
   },
   {
    "duration": 16,
    "start_time": "2024-11-11T16:06:21.885Z"
   },
   {
    "duration": 19,
    "start_time": "2024-11-11T16:07:43.071Z"
   },
   {
    "duration": 15,
    "start_time": "2024-11-11T16:08:17.330Z"
   },
   {
    "duration": 17,
    "start_time": "2024-11-11T16:08:47.777Z"
   },
   {
    "duration": 808,
    "start_time": "2024-11-11T16:08:54.902Z"
   },
   {
    "duration": 157,
    "start_time": "2024-11-11T16:08:55.713Z"
   },
   {
    "duration": 36,
    "start_time": "2024-11-11T16:08:55.871Z"
   },
   {
    "duration": 32,
    "start_time": "2024-11-11T16:08:55.913Z"
   },
   {
    "duration": 21,
    "start_time": "2024-11-11T16:08:55.948Z"
   },
   {
    "duration": 43,
    "start_time": "2024-11-11T16:08:55.971Z"
   },
   {
    "duration": 19,
    "start_time": "2024-11-11T16:08:56.018Z"
   },
   {
    "duration": 24,
    "start_time": "2024-11-11T16:08:56.039Z"
   },
   {
    "duration": 5,
    "start_time": "2024-11-11T16:08:56.065Z"
   },
   {
    "duration": 8,
    "start_time": "2024-11-11T16:08:56.072Z"
   },
   {
    "duration": 45,
    "start_time": "2024-11-11T16:08:56.081Z"
   },
   {
    "duration": 6,
    "start_time": "2024-11-11T16:08:56.128Z"
   },
   {
    "duration": 7,
    "start_time": "2024-11-11T16:08:56.135Z"
   },
   {
    "duration": 10,
    "start_time": "2024-11-11T16:08:56.146Z"
   },
   {
    "duration": 60,
    "start_time": "2024-11-11T16:08:56.158Z"
   },
   {
    "duration": 7,
    "start_time": "2024-11-11T16:08:56.220Z"
   },
   {
    "duration": 82,
    "start_time": "2024-11-11T16:08:56.230Z"
   },
   {
    "duration": 19,
    "start_time": "2024-11-11T16:08:56.314Z"
   },
   {
    "duration": 7,
    "start_time": "2024-11-11T16:08:56.335Z"
   },
   {
    "duration": 24,
    "start_time": "2024-11-11T16:08:56.343Z"
   },
   {
    "duration": 48,
    "start_time": "2024-11-11T16:08:56.368Z"
   },
   {
    "duration": 8,
    "start_time": "2024-11-11T16:08:56.417Z"
   },
   {
    "duration": 21,
    "start_time": "2024-11-11T16:08:56.427Z"
   },
   {
    "duration": 7,
    "start_time": "2024-11-11T16:08:56.450Z"
   },
   {
    "duration": 26,
    "start_time": "2024-11-11T16:08:56.458Z"
   },
   {
    "duration": 44,
    "start_time": "2024-11-11T16:08:56.485Z"
   },
   {
    "duration": 16,
    "start_time": "2024-11-11T16:08:56.531Z"
   },
   {
    "duration": 17,
    "start_time": "2024-11-11T16:08:56.549Z"
   },
   {
    "duration": 20,
    "start_time": "2024-11-11T16:08:56.568Z"
   },
   {
    "duration": 14,
    "start_time": "2024-11-11T16:08:56.612Z"
   },
   {
    "duration": 16,
    "start_time": "2024-11-11T16:08:56.628Z"
   },
   {
    "duration": 237,
    "start_time": "2024-11-11T16:08:56.647Z"
   },
   {
    "duration": 260,
    "start_time": "2024-11-11T16:08:56.886Z"
   },
   {
    "duration": 7,
    "start_time": "2024-11-11T16:08:57.148Z"
   },
   {
    "duration": 156,
    "start_time": "2024-11-11T16:08:57.158Z"
   },
   {
    "duration": 12,
    "start_time": "2024-11-11T16:08:57.317Z"
   },
   {
    "duration": 9,
    "start_time": "2024-11-11T16:08:57.331Z"
   },
   {
    "duration": 9,
    "start_time": "2024-11-11T16:08:57.342Z"
   },
   {
    "duration": 9,
    "start_time": "2024-11-11T16:08:57.354Z"
   },
   {
    "duration": 6,
    "start_time": "2024-11-11T16:08:57.365Z"
   },
   {
    "duration": 43,
    "start_time": "2024-11-11T16:08:57.375Z"
   },
   {
    "duration": 667,
    "start_time": "2024-11-11T16:08:57.421Z"
   },
   {
    "duration": 0,
    "start_time": "2024-11-11T16:08:58.091Z"
   },
   {
    "duration": 1,
    "start_time": "2024-11-11T16:08:58.092Z"
   },
   {
    "duration": 0,
    "start_time": "2024-11-11T16:08:58.094Z"
   },
   {
    "duration": 0,
    "start_time": "2024-11-11T16:08:58.095Z"
   },
   {
    "duration": 214,
    "start_time": "2024-11-11T16:10:33.066Z"
   },
   {
    "duration": 61,
    "start_time": "2024-11-11T16:11:40.216Z"
   },
   {
    "duration": 18,
    "start_time": "2024-11-11T16:13:19.812Z"
   },
   {
    "duration": 848,
    "start_time": "2024-11-11T16:13:27.539Z"
   },
   {
    "duration": 162,
    "start_time": "2024-11-11T16:13:28.389Z"
   },
   {
    "duration": 38,
    "start_time": "2024-11-11T16:13:28.552Z"
   },
   {
    "duration": 32,
    "start_time": "2024-11-11T16:13:28.592Z"
   },
   {
    "duration": 17,
    "start_time": "2024-11-11T16:13:28.627Z"
   },
   {
    "duration": 21,
    "start_time": "2024-11-11T16:13:28.646Z"
   },
   {
    "duration": 16,
    "start_time": "2024-11-11T16:13:28.669Z"
   },
   {
    "duration": 44,
    "start_time": "2024-11-11T16:13:28.687Z"
   },
   {
    "duration": 5,
    "start_time": "2024-11-11T16:13:28.732Z"
   },
   {
    "duration": 9,
    "start_time": "2024-11-11T16:13:28.739Z"
   },
   {
    "duration": 13,
    "start_time": "2024-11-11T16:13:28.750Z"
   },
   {
    "duration": 6,
    "start_time": "2024-11-11T16:13:28.765Z"
   },
   {
    "duration": 40,
    "start_time": "2024-11-11T16:13:28.772Z"
   },
   {
    "duration": 12,
    "start_time": "2024-11-11T16:13:28.816Z"
   },
   {
    "duration": 33,
    "start_time": "2024-11-11T16:13:28.829Z"
   },
   {
    "duration": 8,
    "start_time": "2024-11-11T16:13:28.865Z"
   },
   {
    "duration": 104,
    "start_time": "2024-11-11T16:13:28.876Z"
   },
   {
    "duration": 31,
    "start_time": "2024-11-11T16:13:28.982Z"
   },
   {
    "duration": 8,
    "start_time": "2024-11-11T16:13:29.015Z"
   },
   {
    "duration": 28,
    "start_time": "2024-11-11T16:13:29.025Z"
   },
   {
    "duration": 29,
    "start_time": "2024-11-11T16:13:29.054Z"
   },
   {
    "duration": 28,
    "start_time": "2024-11-11T16:13:29.086Z"
   },
   {
    "duration": 27,
    "start_time": "2024-11-11T16:13:29.116Z"
   },
   {
    "duration": 4,
    "start_time": "2024-11-11T16:13:29.145Z"
   },
   {
    "duration": 26,
    "start_time": "2024-11-11T16:13:29.151Z"
   },
   {
    "duration": 36,
    "start_time": "2024-11-11T16:13:29.179Z"
   },
   {
    "duration": 21,
    "start_time": "2024-11-11T16:13:29.217Z"
   },
   {
    "duration": 20,
    "start_time": "2024-11-11T16:13:29.240Z"
   },
   {
    "duration": 24,
    "start_time": "2024-11-11T16:13:29.263Z"
   },
   {
    "duration": 34,
    "start_time": "2024-11-11T16:13:29.288Z"
   },
   {
    "duration": 18,
    "start_time": "2024-11-11T16:13:29.324Z"
   },
   {
    "duration": 240,
    "start_time": "2024-11-11T16:13:29.344Z"
   },
   {
    "duration": 265,
    "start_time": "2024-11-11T16:13:29.586Z"
   },
   {
    "duration": 9,
    "start_time": "2024-11-11T16:13:29.853Z"
   },
   {
    "duration": 162,
    "start_time": "2024-11-11T16:13:29.864Z"
   },
   {
    "duration": 13,
    "start_time": "2024-11-11T16:13:30.028Z"
   },
   {
    "duration": 7,
    "start_time": "2024-11-11T16:13:30.043Z"
   },
   {
    "duration": 9,
    "start_time": "2024-11-11T16:13:30.051Z"
   },
   {
    "duration": 8,
    "start_time": "2024-11-11T16:13:30.062Z"
   },
   {
    "duration": 5,
    "start_time": "2024-11-11T16:13:30.072Z"
   },
   {
    "duration": 7,
    "start_time": "2024-11-11T16:13:30.111Z"
   },
   {
    "duration": 19,
    "start_time": "2024-11-11T16:13:30.119Z"
   },
   {
    "duration": 15,
    "start_time": "2024-11-11T16:13:30.139Z"
   },
   {
    "duration": 10,
    "start_time": "2024-11-11T16:13:30.155Z"
   },
   {
    "duration": 7,
    "start_time": "2024-11-11T16:13:30.167Z"
   },
   {
    "duration": 2,
    "start_time": "2024-11-11T16:13:30.176Z"
   },
   {
    "duration": 33,
    "start_time": "2024-11-11T16:19:22.158Z"
   },
   {
    "duration": 16,
    "start_time": "2024-11-11T16:21:46.448Z"
   },
   {
    "duration": 862,
    "start_time": "2024-11-11T17:21:16.296Z"
   },
   {
    "duration": 205,
    "start_time": "2024-11-11T17:21:17.162Z"
   },
   {
    "duration": 30,
    "start_time": "2024-11-11T17:21:17.368Z"
   },
   {
    "duration": 22,
    "start_time": "2024-11-11T17:21:17.400Z"
   },
   {
    "duration": 18,
    "start_time": "2024-11-11T17:21:17.424Z"
   },
   {
    "duration": 47,
    "start_time": "2024-11-11T17:21:17.443Z"
   },
   {
    "duration": 15,
    "start_time": "2024-11-11T17:21:17.491Z"
   },
   {
    "duration": 22,
    "start_time": "2024-11-11T17:21:17.508Z"
   },
   {
    "duration": 4,
    "start_time": "2024-11-11T17:21:17.532Z"
   },
   {
    "duration": 35,
    "start_time": "2024-11-11T17:21:17.540Z"
   },
   {
    "duration": 12,
    "start_time": "2024-11-11T17:21:17.577Z"
   },
   {
    "duration": 6,
    "start_time": "2024-11-11T17:21:17.590Z"
   },
   {
    "duration": 7,
    "start_time": "2024-11-11T17:21:17.597Z"
   },
   {
    "duration": 9,
    "start_time": "2024-11-11T17:21:17.605Z"
   },
   {
    "duration": 56,
    "start_time": "2024-11-11T17:21:17.616Z"
   },
   {
    "duration": 9,
    "start_time": "2024-11-11T17:21:17.675Z"
   },
   {
    "duration": 63,
    "start_time": "2024-11-11T17:21:17.686Z"
   },
   {
    "duration": 33,
    "start_time": "2024-11-11T17:21:17.751Z"
   },
   {
    "duration": 5,
    "start_time": "2024-11-11T17:21:17.785Z"
   },
   {
    "duration": 18,
    "start_time": "2024-11-11T17:21:17.792Z"
   },
   {
    "duration": 21,
    "start_time": "2024-11-11T17:21:17.811Z"
   },
   {
    "duration": 36,
    "start_time": "2024-11-11T17:21:17.834Z"
   },
   {
    "duration": 19,
    "start_time": "2024-11-11T17:21:17.872Z"
   },
   {
    "duration": 5,
    "start_time": "2024-11-11T17:21:17.892Z"
   },
   {
    "duration": 19,
    "start_time": "2024-11-11T17:21:17.899Z"
   },
   {
    "duration": 13,
    "start_time": "2024-11-11T17:21:17.920Z"
   },
   {
    "duration": 41,
    "start_time": "2024-11-11T17:21:17.934Z"
   },
   {
    "duration": 17,
    "start_time": "2024-11-11T17:21:17.980Z"
   },
   {
    "duration": 20,
    "start_time": "2024-11-11T17:21:17.999Z"
   },
   {
    "duration": 14,
    "start_time": "2024-11-11T17:21:18.021Z"
   },
   {
    "duration": 16,
    "start_time": "2024-11-11T17:21:18.070Z"
   },
   {
    "duration": 221,
    "start_time": "2024-11-11T17:21:18.088Z"
   },
   {
    "duration": 207,
    "start_time": "2024-11-11T17:21:18.311Z"
   },
   {
    "duration": 8,
    "start_time": "2024-11-11T17:21:18.520Z"
   },
   {
    "duration": 182,
    "start_time": "2024-11-11T17:21:18.530Z"
   },
   {
    "duration": 13,
    "start_time": "2024-11-11T17:21:18.713Z"
   },
   {
    "duration": 8,
    "start_time": "2024-11-11T17:21:18.728Z"
   },
   {
    "duration": 33,
    "start_time": "2024-11-11T17:21:18.738Z"
   },
   {
    "duration": 9,
    "start_time": "2024-11-11T17:21:18.773Z"
   },
   {
    "duration": 6,
    "start_time": "2024-11-11T17:21:18.783Z"
   },
   {
    "duration": 5,
    "start_time": "2024-11-11T17:21:18.791Z"
   },
   {
    "duration": 15,
    "start_time": "2024-11-11T17:21:18.797Z"
   },
   {
    "duration": 13,
    "start_time": "2024-11-11T17:21:18.813Z"
   },
   {
    "duration": 43,
    "start_time": "2024-11-11T17:21:18.828Z"
   },
   {
    "duration": 6,
    "start_time": "2024-11-11T17:21:18.873Z"
   },
   {
    "duration": 14,
    "start_time": "2024-11-11T17:21:18.880Z"
   },
   {
    "duration": 883,
    "start_time": "2024-11-11T18:44:06.495Z"
   },
   {
    "duration": 162,
    "start_time": "2024-11-11T18:44:07.381Z"
   },
   {
    "duration": 31,
    "start_time": "2024-11-11T18:44:07.545Z"
   },
   {
    "duration": 23,
    "start_time": "2024-11-11T18:44:07.579Z"
   },
   {
    "duration": 18,
    "start_time": "2024-11-11T18:44:07.604Z"
   },
   {
    "duration": 49,
    "start_time": "2024-11-11T18:44:07.624Z"
   },
   {
    "duration": 19,
    "start_time": "2024-11-11T18:44:07.676Z"
   },
   {
    "duration": 26,
    "start_time": "2024-11-11T18:44:07.697Z"
   },
   {
    "duration": 7,
    "start_time": "2024-11-11T18:44:07.726Z"
   },
   {
    "duration": 7,
    "start_time": "2024-11-11T18:44:07.740Z"
   },
   {
    "duration": 31,
    "start_time": "2024-11-11T18:44:07.749Z"
   },
   {
    "duration": 6,
    "start_time": "2024-11-11T18:44:07.784Z"
   },
   {
    "duration": 8,
    "start_time": "2024-11-11T18:44:07.792Z"
   },
   {
    "duration": 11,
    "start_time": "2024-11-11T18:44:07.801Z"
   },
   {
    "duration": 59,
    "start_time": "2024-11-11T18:44:07.815Z"
   },
   {
    "duration": 8,
    "start_time": "2024-11-11T18:44:07.878Z"
   },
   {
    "duration": 59,
    "start_time": "2024-11-11T18:44:07.888Z"
   },
   {
    "duration": 34,
    "start_time": "2024-11-11T18:44:07.950Z"
   },
   {
    "duration": 8,
    "start_time": "2024-11-11T18:44:07.986Z"
   },
   {
    "duration": 27,
    "start_time": "2024-11-11T18:44:07.995Z"
   },
   {
    "duration": 53,
    "start_time": "2024-11-11T18:44:08.024Z"
   },
   {
    "duration": 6,
    "start_time": "2024-11-11T18:44:08.081Z"
   },
   {
    "duration": 26,
    "start_time": "2024-11-11T18:44:08.089Z"
   },
   {
    "duration": 6,
    "start_time": "2024-11-11T18:44:08.117Z"
   },
   {
    "duration": 46,
    "start_time": "2024-11-11T18:44:08.125Z"
   },
   {
    "duration": 14,
    "start_time": "2024-11-11T18:44:08.173Z"
   },
   {
    "duration": 17,
    "start_time": "2024-11-11T18:44:08.189Z"
   },
   {
    "duration": 18,
    "start_time": "2024-11-11T18:44:08.212Z"
   },
   {
    "duration": 50,
    "start_time": "2024-11-11T18:44:08.232Z"
   },
   {
    "duration": 18,
    "start_time": "2024-11-11T18:44:08.284Z"
   },
   {
    "duration": 21,
    "start_time": "2024-11-11T18:44:08.305Z"
   },
   {
    "duration": 245,
    "start_time": "2024-11-11T18:44:08.330Z"
   },
   {
    "duration": 198,
    "start_time": "2024-11-11T18:44:08.577Z"
   },
   {
    "duration": 8,
    "start_time": "2024-11-11T18:44:08.778Z"
   },
   {
    "duration": 186,
    "start_time": "2024-11-11T18:44:08.787Z"
   },
   {
    "duration": 12,
    "start_time": "2024-11-11T18:44:08.975Z"
   },
   {
    "duration": 8,
    "start_time": "2024-11-11T18:44:08.988Z"
   },
   {
    "duration": 10,
    "start_time": "2024-11-11T18:44:08.997Z"
   },
   {
    "duration": 10,
    "start_time": "2024-11-11T18:44:09.008Z"
   },
   {
    "duration": 6,
    "start_time": "2024-11-11T18:44:09.019Z"
   },
   {
    "duration": 44,
    "start_time": "2024-11-11T18:44:09.027Z"
   },
   {
    "duration": 15,
    "start_time": "2024-11-11T18:44:09.073Z"
   },
   {
    "duration": 15,
    "start_time": "2024-11-11T18:44:09.090Z"
   },
   {
    "duration": 9,
    "start_time": "2024-11-11T18:44:09.107Z"
   },
   {
    "duration": 9,
    "start_time": "2024-11-11T18:44:09.119Z"
   },
   {
    "duration": 18,
    "start_time": "2024-11-11T18:44:09.131Z"
   },
   {
    "duration": 5,
    "start_time": "2024-11-11T18:47:20.044Z"
   },
   {
    "duration": 161,
    "start_time": "2024-11-11T21:34:59.866Z"
   },
   {
    "duration": 2558,
    "start_time": "2024-11-11T21:35:07.818Z"
   },
   {
    "duration": 218,
    "start_time": "2024-11-11T21:35:10.378Z"
   },
   {
    "duration": 30,
    "start_time": "2024-11-11T21:35:10.597Z"
   },
   {
    "duration": 23,
    "start_time": "2024-11-11T21:35:10.629Z"
   },
   {
    "duration": 16,
    "start_time": "2024-11-11T21:35:10.655Z"
   },
   {
    "duration": 22,
    "start_time": "2024-11-11T21:35:10.673Z"
   },
   {
    "duration": 36,
    "start_time": "2024-11-11T21:35:10.696Z"
   },
   {
    "duration": 21,
    "start_time": "2024-11-11T21:35:10.733Z"
   },
   {
    "duration": 4,
    "start_time": "2024-11-11T21:35:10.756Z"
   },
   {
    "duration": 7,
    "start_time": "2024-11-11T21:35:10.761Z"
   },
   {
    "duration": 12,
    "start_time": "2024-11-11T21:35:10.770Z"
   },
   {
    "duration": 6,
    "start_time": "2024-11-11T21:35:10.784Z"
   },
   {
    "duration": 7,
    "start_time": "2024-11-11T21:35:10.824Z"
   },
   {
    "duration": 8,
    "start_time": "2024-11-11T21:35:10.836Z"
   },
   {
    "duration": 25,
    "start_time": "2024-11-11T21:35:10.846Z"
   },
   {
    "duration": 7,
    "start_time": "2024-11-11T21:35:10.872Z"
   },
   {
    "duration": 91,
    "start_time": "2024-11-11T21:35:10.881Z"
   },
   {
    "duration": 18,
    "start_time": "2024-11-11T21:35:10.975Z"
   },
   {
    "duration": 6,
    "start_time": "2024-11-11T21:35:10.995Z"
   },
   {
    "duration": 39,
    "start_time": "2024-11-11T21:35:11.003Z"
   },
   {
    "duration": 23,
    "start_time": "2024-11-11T21:35:11.044Z"
   },
   {
    "duration": 7,
    "start_time": "2024-11-11T21:35:11.069Z"
   },
   {
    "duration": 19,
    "start_time": "2024-11-11T21:35:11.078Z"
   },
   {
    "duration": 4,
    "start_time": "2024-11-11T21:35:11.125Z"
   },
   {
    "duration": 21,
    "start_time": "2024-11-11T21:35:11.131Z"
   },
   {
    "duration": 12,
    "start_time": "2024-11-11T21:35:11.154Z"
   },
   {
    "duration": 20,
    "start_time": "2024-11-11T21:35:11.167Z"
   },
   {
    "duration": 50,
    "start_time": "2024-11-11T21:35:11.190Z"
   },
   {
    "duration": 20,
    "start_time": "2024-11-11T21:35:11.242Z"
   },
   {
    "duration": 14,
    "start_time": "2024-11-11T21:35:11.265Z"
   },
   {
    "duration": 18,
    "start_time": "2024-11-11T21:35:11.281Z"
   },
   {
    "duration": 227,
    "start_time": "2024-11-11T21:35:11.308Z"
   },
   {
    "duration": 193,
    "start_time": "2024-11-11T21:35:11.537Z"
   },
   {
    "duration": 7,
    "start_time": "2024-11-11T21:35:11.732Z"
   },
   {
    "duration": 124,
    "start_time": "2024-11-11T21:35:11.741Z"
   },
   {
    "duration": 11,
    "start_time": "2024-11-11T21:35:11.867Z"
   },
   {
    "duration": 8,
    "start_time": "2024-11-11T21:35:11.880Z"
   },
   {
    "duration": 4,
    "start_time": "2024-11-11T21:35:11.890Z"
   },
   {
    "duration": 34,
    "start_time": "2024-11-11T21:35:11.896Z"
   },
   {
    "duration": 8,
    "start_time": "2024-11-11T21:35:11.931Z"
   },
   {
    "duration": 4,
    "start_time": "2024-11-11T21:35:11.944Z"
   },
   {
    "duration": 6,
    "start_time": "2024-11-11T21:35:11.950Z"
   },
   {
    "duration": 14,
    "start_time": "2024-11-11T21:35:11.957Z"
   },
   {
    "duration": 13,
    "start_time": "2024-11-11T21:35:11.972Z"
   },
   {
    "duration": 46,
    "start_time": "2024-11-11T21:35:11.986Z"
   },
   {
    "duration": 7,
    "start_time": "2024-11-11T21:35:12.033Z"
   },
   {
    "duration": 14,
    "start_time": "2024-11-11T21:35:12.042Z"
   },
   {
    "duration": 5,
    "start_time": "2024-11-11T21:35:24.192Z"
   },
   {
    "duration": 414,
    "start_time": "2024-11-11T21:36:09.194Z"
   },
   {
    "duration": 247,
    "start_time": "2024-11-11T21:36:18.369Z"
   },
   {
    "duration": 172,
    "start_time": "2024-11-11T21:37:06.736Z"
   },
   {
    "duration": 175,
    "start_time": "2024-11-11T21:37:33.947Z"
   },
   {
    "duration": 169,
    "start_time": "2024-11-11T21:39:46.964Z"
   },
   {
    "duration": 158,
    "start_time": "2024-11-11T21:40:35.442Z"
   },
   {
    "duration": 157,
    "start_time": "2024-11-11T21:40:44.690Z"
   },
   {
    "duration": 6,
    "start_time": "2024-11-11T21:42:14.408Z"
   },
   {
    "duration": 104,
    "start_time": "2024-11-11T21:42:19.905Z"
   },
   {
    "duration": 180,
    "start_time": "2024-11-11T21:45:03.356Z"
   },
   {
    "duration": 109,
    "start_time": "2024-11-11T21:46:29.938Z"
   },
   {
    "duration": 12,
    "start_time": "2024-11-11T21:46:55.446Z"
   },
   {
    "duration": 173,
    "start_time": "2024-11-11T21:49:18.724Z"
   },
   {
    "duration": 247,
    "start_time": "2024-11-11T21:49:39.195Z"
   },
   {
    "duration": 161,
    "start_time": "2024-11-11T21:49:47.957Z"
   },
   {
    "duration": 178,
    "start_time": "2024-11-11T21:50:30.914Z"
   },
   {
    "duration": 119,
    "start_time": "2024-11-11T21:51:21.148Z"
   },
   {
    "duration": 839,
    "start_time": "2024-11-11T21:52:23.197Z"
   },
   {
    "duration": 157,
    "start_time": "2024-11-11T21:52:24.038Z"
   },
   {
    "duration": 31,
    "start_time": "2024-11-11T21:52:24.197Z"
   },
   {
    "duration": 24,
    "start_time": "2024-11-11T21:52:24.230Z"
   },
   {
    "duration": 17,
    "start_time": "2024-11-11T21:52:24.256Z"
   },
   {
    "duration": 23,
    "start_time": "2024-11-11T21:52:24.274Z"
   },
   {
    "duration": 40,
    "start_time": "2024-11-11T21:52:24.298Z"
   },
   {
    "duration": 22,
    "start_time": "2024-11-11T21:52:24.340Z"
   },
   {
    "duration": 4,
    "start_time": "2024-11-11T21:52:24.364Z"
   },
   {
    "duration": 8,
    "start_time": "2024-11-11T21:52:24.369Z"
   },
   {
    "duration": 45,
    "start_time": "2024-11-11T21:52:24.379Z"
   },
   {
    "duration": 5,
    "start_time": "2024-11-11T21:52:24.426Z"
   },
   {
    "duration": 7,
    "start_time": "2024-11-11T21:52:24.433Z"
   },
   {
    "duration": 9,
    "start_time": "2024-11-11T21:52:24.443Z"
   },
   {
    "duration": 25,
    "start_time": "2024-11-11T21:52:24.453Z"
   },
   {
    "duration": 7,
    "start_time": "2024-11-11T21:52:24.480Z"
   },
   {
    "duration": 92,
    "start_time": "2024-11-11T21:52:24.488Z"
   },
   {
    "duration": 16,
    "start_time": "2024-11-11T21:52:24.582Z"
   },
   {
    "duration": 24,
    "start_time": "2024-11-11T21:52:24.600Z"
   },
   {
    "duration": 18,
    "start_time": "2024-11-11T21:52:24.626Z"
   },
   {
    "duration": 22,
    "start_time": "2024-11-11T21:52:24.646Z"
   },
   {
    "duration": 7,
    "start_time": "2024-11-11T21:52:24.670Z"
   },
   {
    "duration": 46,
    "start_time": "2024-11-11T21:52:24.678Z"
   },
   {
    "duration": 5,
    "start_time": "2024-11-11T21:52:24.725Z"
   },
   {
    "duration": 20,
    "start_time": "2024-11-11T21:52:24.732Z"
   },
   {
    "duration": 13,
    "start_time": "2024-11-11T21:52:24.754Z"
   },
   {
    "duration": 16,
    "start_time": "2024-11-11T21:52:24.768Z"
   },
   {
    "duration": 45,
    "start_time": "2024-11-11T21:52:24.785Z"
   },
   {
    "duration": 19,
    "start_time": "2024-11-11T21:52:24.832Z"
   },
   {
    "duration": 13,
    "start_time": "2024-11-11T21:52:24.852Z"
   },
   {
    "duration": 16,
    "start_time": "2024-11-11T21:52:24.866Z"
   },
   {
    "duration": 228,
    "start_time": "2024-11-11T21:52:24.883Z"
   },
   {
    "duration": 234,
    "start_time": "2024-11-11T21:52:25.112Z"
   },
   {
    "duration": 7,
    "start_time": "2024-11-11T21:52:25.348Z"
   },
   {
    "duration": 132,
    "start_time": "2024-11-11T21:52:25.357Z"
   },
   {
    "duration": 11,
    "start_time": "2024-11-11T21:52:25.491Z"
   },
   {
    "duration": 24,
    "start_time": "2024-11-11T21:52:25.504Z"
   },
   {
    "duration": 163,
    "start_time": "2024-11-11T21:52:25.529Z"
   },
   {
    "duration": 113,
    "start_time": "2024-11-11T21:52:25.694Z"
   },
   {
    "duration": 21,
    "start_time": "2024-11-11T21:52:25.808Z"
   },
   {
    "duration": 8,
    "start_time": "2024-11-11T21:52:25.834Z"
   },
   {
    "duration": 196,
    "start_time": "2024-11-11T21:52:25.843Z"
   },
   {
    "duration": 131,
    "start_time": "2024-11-11T21:52:26.040Z"
   },
   {
    "duration": 6,
    "start_time": "2024-11-11T21:52:26.173Z"
   },
   {
    "duration": 5,
    "start_time": "2024-11-11T21:52:26.181Z"
   },
   {
    "duration": 13,
    "start_time": "2024-11-11T21:52:26.188Z"
   },
   {
    "duration": 32,
    "start_time": "2024-11-11T21:52:26.202Z"
   },
   {
    "duration": 9,
    "start_time": "2024-11-11T21:52:26.236Z"
   },
   {
    "duration": 167,
    "start_time": "2024-11-11T21:52:26.246Z"
   },
   {
    "duration": 110,
    "start_time": "2024-11-11T21:52:26.423Z"
   },
   {
    "duration": 6,
    "start_time": "2024-11-11T21:52:26.535Z"
   },
   {
    "duration": 14,
    "start_time": "2024-11-11T21:52:26.543Z"
   }
  ],
  "kernelspec": {
   "display_name": "Python 3 (ipykernel)",
   "language": "python",
   "name": "python3"
  },
  "language_info": {
   "codemirror_mode": {
    "name": "ipython",
    "version": 3
   },
   "file_extension": ".py",
   "mimetype": "text/x-python",
   "name": "python",
   "nbconvert_exporter": "python",
   "pygments_lexer": "ipython3",
   "version": "3.9.19"
  },
  "toc": {
   "base_numbering": 1,
   "nav_menu": {},
   "number_sections": true,
   "sideBar": true,
   "skip_h1_title": false,
   "title_cell": "Table of Contents",
   "title_sidebar": "Contents",
   "toc_cell": false,
   "toc_position": {},
   "toc_section_display": true,
   "toc_window_display": true
  }
 },
 "nbformat": 4,
 "nbformat_minor": 2
}
